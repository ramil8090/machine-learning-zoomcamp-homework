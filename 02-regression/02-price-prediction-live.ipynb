{
 "cells": [
  {
   "cell_type": "markdown",
   "id": "14487286-278c-4d33-9f85-026506411713",
   "metadata": {},
   "source": [
    "# Machine Learning For Regression"
   ]
  },
  {
   "cell_type": "code",
   "execution_count": 1,
   "id": "c4b5a6db-0054-415b-86b7-08196c91f7d7",
   "metadata": {},
   "outputs": [],
   "source": [
    "import numpy as np\n",
    "import pandas as pd"
   ]
  },
  {
   "cell_type": "markdown",
   "id": "12532672-cbcf-43e5-8cd2-ffae8df8c936",
   "metadata": {},
   "source": [
    "## Data Preparation"
   ]
  },
  {
   "cell_type": "code",
   "execution_count": 2,
   "id": "e4f53dda-5203-4a3d-a8de-3de2cbf43a72",
   "metadata": {},
   "outputs": [
    {
     "name": "stdout",
     "output_type": "stream",
     "text": [
      "--2025-10-01 16:51:26--  https://raw.githubusercontent.com/alexeygrigorev/mlbookcamp-code/refs/heads/master/chapter-02-car-price/data.csv\n",
      "Resolving raw.githubusercontent.com (raw.githubusercontent.com)... 185.199.111.133, 185.199.109.133, 185.199.110.133, ...\n",
      "Connecting to raw.githubusercontent.com (raw.githubusercontent.com)|185.199.111.133|:443... connected.\n",
      "HTTP request sent, awaiting response... 200 OK\n",
      "Length: 1475504 (1.4M) [text/plain]\n",
      "Saving to: ‘data.csv.1’\n",
      "\n",
      "data.csv.1          100%[===================>]   1.41M  1.63MB/s    in 0.9s    \n",
      "\n",
      "2025-10-01 16:51:27 (1.63 MB/s) - ‘data.csv.1’ saved [1475504/1475504]\n",
      "\n"
     ]
    }
   ],
   "source": [
    "data = 'https://raw.githubusercontent.com/alexeygrigorev/mlbookcamp-code/refs/heads/master/chapter-02-car-price/data.csv'\n",
    "!wget $data"
   ]
  },
  {
   "cell_type": "code",
   "execution_count": 3,
   "id": "53eb99d4-75fa-443b-bdd9-18e5e342e87c",
   "metadata": {},
   "outputs": [],
   "source": [
    "df = pd.read_csv('data.csv')"
   ]
  },
  {
   "cell_type": "code",
   "execution_count": 4,
   "id": "c6f8e89f-fb24-4b34-a3b4-a181110064da",
   "metadata": {},
   "outputs": [],
   "source": [
    "df.columns = df.columns.str.lower().str.replace(' ', '_')"
   ]
  },
  {
   "cell_type": "code",
   "execution_count": 5,
   "id": "7c903606-61af-403f-be54-6b171271bc86",
   "metadata": {},
   "outputs": [
    {
     "data": {
      "text/html": [
       "<div>\n",
       "<style scoped>\n",
       "    .dataframe tbody tr th:only-of-type {\n",
       "        vertical-align: middle;\n",
       "    }\n",
       "\n",
       "    .dataframe tbody tr th {\n",
       "        vertical-align: top;\n",
       "    }\n",
       "\n",
       "    .dataframe thead th {\n",
       "        text-align: right;\n",
       "    }\n",
       "</style>\n",
       "<table border=\"1\" class=\"dataframe\">\n",
       "  <thead>\n",
       "    <tr style=\"text-align: right;\">\n",
       "      <th></th>\n",
       "      <th>make</th>\n",
       "      <th>model</th>\n",
       "      <th>year</th>\n",
       "      <th>engine_fuel_type</th>\n",
       "      <th>engine_hp</th>\n",
       "      <th>engine_cylinders</th>\n",
       "      <th>transmission_type</th>\n",
       "      <th>driven_wheels</th>\n",
       "      <th>number_of_doors</th>\n",
       "      <th>market_category</th>\n",
       "      <th>vehicle_size</th>\n",
       "      <th>vehicle_style</th>\n",
       "      <th>highway_mpg</th>\n",
       "      <th>city_mpg</th>\n",
       "      <th>popularity</th>\n",
       "      <th>msrp</th>\n",
       "    </tr>\n",
       "  </thead>\n",
       "  <tbody>\n",
       "    <tr>\n",
       "      <th>0</th>\n",
       "      <td>BMW</td>\n",
       "      <td>1 Series M</td>\n",
       "      <td>2011</td>\n",
       "      <td>premium unleaded (required)</td>\n",
       "      <td>335.0</td>\n",
       "      <td>6.0</td>\n",
       "      <td>MANUAL</td>\n",
       "      <td>rear wheel drive</td>\n",
       "      <td>2.0</td>\n",
       "      <td>Factory Tuner,Luxury,High-Performance</td>\n",
       "      <td>Compact</td>\n",
       "      <td>Coupe</td>\n",
       "      <td>26</td>\n",
       "      <td>19</td>\n",
       "      <td>3916</td>\n",
       "      <td>46135</td>\n",
       "    </tr>\n",
       "    <tr>\n",
       "      <th>1</th>\n",
       "      <td>BMW</td>\n",
       "      <td>1 Series</td>\n",
       "      <td>2011</td>\n",
       "      <td>premium unleaded (required)</td>\n",
       "      <td>300.0</td>\n",
       "      <td>6.0</td>\n",
       "      <td>MANUAL</td>\n",
       "      <td>rear wheel drive</td>\n",
       "      <td>2.0</td>\n",
       "      <td>Luxury,Performance</td>\n",
       "      <td>Compact</td>\n",
       "      <td>Convertible</td>\n",
       "      <td>28</td>\n",
       "      <td>19</td>\n",
       "      <td>3916</td>\n",
       "      <td>40650</td>\n",
       "    </tr>\n",
       "    <tr>\n",
       "      <th>2</th>\n",
       "      <td>BMW</td>\n",
       "      <td>1 Series</td>\n",
       "      <td>2011</td>\n",
       "      <td>premium unleaded (required)</td>\n",
       "      <td>300.0</td>\n",
       "      <td>6.0</td>\n",
       "      <td>MANUAL</td>\n",
       "      <td>rear wheel drive</td>\n",
       "      <td>2.0</td>\n",
       "      <td>Luxury,High-Performance</td>\n",
       "      <td>Compact</td>\n",
       "      <td>Coupe</td>\n",
       "      <td>28</td>\n",
       "      <td>20</td>\n",
       "      <td>3916</td>\n",
       "      <td>36350</td>\n",
       "    </tr>\n",
       "    <tr>\n",
       "      <th>3</th>\n",
       "      <td>BMW</td>\n",
       "      <td>1 Series</td>\n",
       "      <td>2011</td>\n",
       "      <td>premium unleaded (required)</td>\n",
       "      <td>230.0</td>\n",
       "      <td>6.0</td>\n",
       "      <td>MANUAL</td>\n",
       "      <td>rear wheel drive</td>\n",
       "      <td>2.0</td>\n",
       "      <td>Luxury,Performance</td>\n",
       "      <td>Compact</td>\n",
       "      <td>Coupe</td>\n",
       "      <td>28</td>\n",
       "      <td>18</td>\n",
       "      <td>3916</td>\n",
       "      <td>29450</td>\n",
       "    </tr>\n",
       "    <tr>\n",
       "      <th>4</th>\n",
       "      <td>BMW</td>\n",
       "      <td>1 Series</td>\n",
       "      <td>2011</td>\n",
       "      <td>premium unleaded (required)</td>\n",
       "      <td>230.0</td>\n",
       "      <td>6.0</td>\n",
       "      <td>MANUAL</td>\n",
       "      <td>rear wheel drive</td>\n",
       "      <td>2.0</td>\n",
       "      <td>Luxury</td>\n",
       "      <td>Compact</td>\n",
       "      <td>Convertible</td>\n",
       "      <td>28</td>\n",
       "      <td>18</td>\n",
       "      <td>3916</td>\n",
       "      <td>34500</td>\n",
       "    </tr>\n",
       "  </tbody>\n",
       "</table>\n",
       "</div>"
      ],
      "text/plain": [
       "  make       model  year             engine_fuel_type  engine_hp  \\\n",
       "0  BMW  1 Series M  2011  premium unleaded (required)      335.0   \n",
       "1  BMW    1 Series  2011  premium unleaded (required)      300.0   \n",
       "2  BMW    1 Series  2011  premium unleaded (required)      300.0   \n",
       "3  BMW    1 Series  2011  premium unleaded (required)      230.0   \n",
       "4  BMW    1 Series  2011  premium unleaded (required)      230.0   \n",
       "\n",
       "   engine_cylinders transmission_type     driven_wheels  number_of_doors  \\\n",
       "0               6.0            MANUAL  rear wheel drive              2.0   \n",
       "1               6.0            MANUAL  rear wheel drive              2.0   \n",
       "2               6.0            MANUAL  rear wheel drive              2.0   \n",
       "3               6.0            MANUAL  rear wheel drive              2.0   \n",
       "4               6.0            MANUAL  rear wheel drive              2.0   \n",
       "\n",
       "                         market_category vehicle_size vehicle_style  \\\n",
       "0  Factory Tuner,Luxury,High-Performance      Compact         Coupe   \n",
       "1                     Luxury,Performance      Compact   Convertible   \n",
       "2                Luxury,High-Performance      Compact         Coupe   \n",
       "3                     Luxury,Performance      Compact         Coupe   \n",
       "4                                 Luxury      Compact   Convertible   \n",
       "\n",
       "   highway_mpg  city_mpg  popularity   msrp  \n",
       "0           26        19        3916  46135  \n",
       "1           28        19        3916  40650  \n",
       "2           28        20        3916  36350  \n",
       "3           28        18        3916  29450  \n",
       "4           28        18        3916  34500  "
      ]
     },
     "execution_count": 5,
     "metadata": {},
     "output_type": "execute_result"
    }
   ],
   "source": [
    "df.head()"
   ]
  },
  {
   "cell_type": "code",
   "execution_count": 6,
   "id": "2e510160-f37f-4f7a-b5bc-814fb81ebfeb",
   "metadata": {},
   "outputs": [
    {
     "data": {
      "text/html": [
       "<div>\n",
       "<style scoped>\n",
       "    .dataframe tbody tr th:only-of-type {\n",
       "        vertical-align: middle;\n",
       "    }\n",
       "\n",
       "    .dataframe tbody tr th {\n",
       "        vertical-align: top;\n",
       "    }\n",
       "\n",
       "    .dataframe thead th {\n",
       "        text-align: right;\n",
       "    }\n",
       "</style>\n",
       "<table border=\"1\" class=\"dataframe\">\n",
       "  <thead>\n",
       "    <tr style=\"text-align: right;\">\n",
       "      <th></th>\n",
       "      <th>make</th>\n",
       "      <th>model</th>\n",
       "      <th>year</th>\n",
       "      <th>engine_fuel_type</th>\n",
       "      <th>engine_hp</th>\n",
       "      <th>engine_cylinders</th>\n",
       "      <th>transmission_type</th>\n",
       "      <th>driven_wheels</th>\n",
       "      <th>number_of_doors</th>\n",
       "      <th>market_category</th>\n",
       "      <th>vehicle_size</th>\n",
       "      <th>vehicle_style</th>\n",
       "      <th>highway_mpg</th>\n",
       "      <th>city_mpg</th>\n",
       "      <th>popularity</th>\n",
       "      <th>msrp</th>\n",
       "    </tr>\n",
       "  </thead>\n",
       "  <tbody>\n",
       "    <tr>\n",
       "      <th>0</th>\n",
       "      <td>bmw</td>\n",
       "      <td>1_series_m</td>\n",
       "      <td>2011</td>\n",
       "      <td>premium_unleaded_(required)</td>\n",
       "      <td>335.0</td>\n",
       "      <td>6.0</td>\n",
       "      <td>manual</td>\n",
       "      <td>rear_wheel_drive</td>\n",
       "      <td>2.0</td>\n",
       "      <td>factory_tuner,luxury,high-performance</td>\n",
       "      <td>compact</td>\n",
       "      <td>coupe</td>\n",
       "      <td>26</td>\n",
       "      <td>19</td>\n",
       "      <td>3916</td>\n",
       "      <td>46135</td>\n",
       "    </tr>\n",
       "    <tr>\n",
       "      <th>1</th>\n",
       "      <td>bmw</td>\n",
       "      <td>1_series</td>\n",
       "      <td>2011</td>\n",
       "      <td>premium_unleaded_(required)</td>\n",
       "      <td>300.0</td>\n",
       "      <td>6.0</td>\n",
       "      <td>manual</td>\n",
       "      <td>rear_wheel_drive</td>\n",
       "      <td>2.0</td>\n",
       "      <td>luxury,performance</td>\n",
       "      <td>compact</td>\n",
       "      <td>convertible</td>\n",
       "      <td>28</td>\n",
       "      <td>19</td>\n",
       "      <td>3916</td>\n",
       "      <td>40650</td>\n",
       "    </tr>\n",
       "    <tr>\n",
       "      <th>2</th>\n",
       "      <td>bmw</td>\n",
       "      <td>1_series</td>\n",
       "      <td>2011</td>\n",
       "      <td>premium_unleaded_(required)</td>\n",
       "      <td>300.0</td>\n",
       "      <td>6.0</td>\n",
       "      <td>manual</td>\n",
       "      <td>rear_wheel_drive</td>\n",
       "      <td>2.0</td>\n",
       "      <td>luxury,high-performance</td>\n",
       "      <td>compact</td>\n",
       "      <td>coupe</td>\n",
       "      <td>28</td>\n",
       "      <td>20</td>\n",
       "      <td>3916</td>\n",
       "      <td>36350</td>\n",
       "    </tr>\n",
       "    <tr>\n",
       "      <th>3</th>\n",
       "      <td>bmw</td>\n",
       "      <td>1_series</td>\n",
       "      <td>2011</td>\n",
       "      <td>premium_unleaded_(required)</td>\n",
       "      <td>230.0</td>\n",
       "      <td>6.0</td>\n",
       "      <td>manual</td>\n",
       "      <td>rear_wheel_drive</td>\n",
       "      <td>2.0</td>\n",
       "      <td>luxury,performance</td>\n",
       "      <td>compact</td>\n",
       "      <td>coupe</td>\n",
       "      <td>28</td>\n",
       "      <td>18</td>\n",
       "      <td>3916</td>\n",
       "      <td>29450</td>\n",
       "    </tr>\n",
       "    <tr>\n",
       "      <th>4</th>\n",
       "      <td>bmw</td>\n",
       "      <td>1_series</td>\n",
       "      <td>2011</td>\n",
       "      <td>premium_unleaded_(required)</td>\n",
       "      <td>230.0</td>\n",
       "      <td>6.0</td>\n",
       "      <td>manual</td>\n",
       "      <td>rear_wheel_drive</td>\n",
       "      <td>2.0</td>\n",
       "      <td>luxury</td>\n",
       "      <td>compact</td>\n",
       "      <td>convertible</td>\n",
       "      <td>28</td>\n",
       "      <td>18</td>\n",
       "      <td>3916</td>\n",
       "      <td>34500</td>\n",
       "    </tr>\n",
       "  </tbody>\n",
       "</table>\n",
       "</div>"
      ],
      "text/plain": [
       "  make       model  year             engine_fuel_type  engine_hp  \\\n",
       "0  bmw  1_series_m  2011  premium_unleaded_(required)      335.0   \n",
       "1  bmw    1_series  2011  premium_unleaded_(required)      300.0   \n",
       "2  bmw    1_series  2011  premium_unleaded_(required)      300.0   \n",
       "3  bmw    1_series  2011  premium_unleaded_(required)      230.0   \n",
       "4  bmw    1_series  2011  premium_unleaded_(required)      230.0   \n",
       "\n",
       "   engine_cylinders transmission_type     driven_wheels  number_of_doors  \\\n",
       "0               6.0            manual  rear_wheel_drive              2.0   \n",
       "1               6.0            manual  rear_wheel_drive              2.0   \n",
       "2               6.0            manual  rear_wheel_drive              2.0   \n",
       "3               6.0            manual  rear_wheel_drive              2.0   \n",
       "4               6.0            manual  rear_wheel_drive              2.0   \n",
       "\n",
       "                         market_category vehicle_size vehicle_style  \\\n",
       "0  factory_tuner,luxury,high-performance      compact         coupe   \n",
       "1                     luxury,performance      compact   convertible   \n",
       "2                luxury,high-performance      compact         coupe   \n",
       "3                     luxury,performance      compact         coupe   \n",
       "4                                 luxury      compact   convertible   \n",
       "\n",
       "   highway_mpg  city_mpg  popularity   msrp  \n",
       "0           26        19        3916  46135  \n",
       "1           28        19        3916  40650  \n",
       "2           28        20        3916  36350  \n",
       "3           28        18        3916  29450  \n",
       "4           28        18        3916  34500  "
      ]
     },
     "execution_count": 6,
     "metadata": {},
     "output_type": "execute_result"
    }
   ],
   "source": [
    "strings = list(df.dtypes[df.dtypes == 'object'].index)\n",
    "for col in strings:\n",
    "    df[col] = df[col].str.lower().str.replace(' ', '_')\n",
    "df.head()"
   ]
  },
  {
   "cell_type": "markdown",
   "id": "0cadcb47-5233-4fa9-aa13-500c232fec89",
   "metadata": {},
   "source": [
    "## Exploratory data analysis"
   ]
  },
  {
   "cell_type": "code",
   "execution_count": 7,
   "id": "dd9398df-23a3-492e-ab60-59a33c7f93ba",
   "metadata": {},
   "outputs": [
    {
     "name": "stdout",
     "output_type": "stream",
     "text": [
      "make\n",
      "['bmw' 'audi' 'fiat' 'mercedes-benz' 'chrysler']\n",
      "48\n",
      "\n",
      "model\n",
      "['1_series_m' '1_series' '100' '124_spider' '190-class']\n",
      "914\n",
      "\n",
      "year\n",
      "[2011 2012 2013 1992 1993]\n",
      "28\n",
      "\n",
      "engine_fuel_type\n",
      "['premium_unleaded_(required)' 'regular_unleaded'\n",
      " 'premium_unleaded_(recommended)' 'flex-fuel_(unleaded/e85)' 'diesel']\n",
      "10\n",
      "\n",
      "engine_hp\n",
      "[335. 300. 230. 320. 172.]\n",
      "356\n",
      "\n",
      "engine_cylinders\n",
      "[ 6.  4.  5.  8. 12.]\n",
      "9\n",
      "\n",
      "transmission_type\n",
      "['manual' 'automatic' 'automated_manual' 'direct_drive' 'unknown']\n",
      "5\n",
      "\n",
      "driven_wheels\n",
      "['rear_wheel_drive' 'front_wheel_drive' 'all_wheel_drive'\n",
      " 'four_wheel_drive']\n",
      "4\n",
      "\n",
      "number_of_doors\n",
      "[ 2.  4.  3. nan]\n",
      "3\n",
      "\n",
      "market_category\n",
      "['factory_tuner,luxury,high-performance' 'luxury,performance'\n",
      " 'luxury,high-performance' 'luxury' 'performance']\n",
      "71\n",
      "\n",
      "vehicle_size\n",
      "['compact' 'midsize' 'large']\n",
      "3\n",
      "\n",
      "vehicle_style\n",
      "['coupe' 'convertible' 'sedan' 'wagon' '4dr_hatchback']\n",
      "16\n",
      "\n",
      "highway_mpg\n",
      "[26 28 27 25 24]\n",
      "59\n",
      "\n",
      "city_mpg\n",
      "[19 20 18 17 16]\n",
      "69\n",
      "\n",
      "popularity\n",
      "[3916 3105  819  617 1013]\n",
      "48\n",
      "\n",
      "msrp\n",
      "[46135 40650 36350 29450 34500]\n",
      "6049\n",
      "\n"
     ]
    }
   ],
   "source": [
    "for col in df.columns:\n",
    "    print(col)\n",
    "    print(df[col].unique()[:5])\n",
    "    print(df[col].nunique())\n",
    "    print()"
   ]
  },
  {
   "cell_type": "markdown",
   "id": "a1a57613-852e-451d-9f4e-f0e72606c2c4",
   "metadata": {},
   "source": [
    "Distribution of price"
   ]
  },
  {
   "cell_type": "code",
   "execution_count": 8,
   "id": "95f86207-349c-426a-9652-aa5d3c546048",
   "metadata": {},
   "outputs": [],
   "source": [
    "import matplotlib.pyplot as plt\n",
    "import seaborn as sns\n",
    "\n",
    "%matplotlib inline"
   ]
  },
  {
   "cell_type": "code",
   "execution_count": 9,
   "id": "57dea66b-4750-471c-b887-1f39fc8fc496",
   "metadata": {},
   "outputs": [
    {
     "data": {
      "text/plain": [
       "<Axes: xlabel='msrp', ylabel='Count'>"
      ]
     },
     "execution_count": 9,
     "metadata": {},
     "output_type": "execute_result"
    },
    {
     "data": {
      "image/png": "[encoded data removed]",
      "text/plain": [
       "<Figure size 640x480 with 1 Axes>"
      ]
     },
     "metadata": {},
     "output_type": "display_data"
    }
   ],
   "source": [
    "sns.histplot(df.msrp[df.msrp < 100000], bins=50)"
   ]
  },
  {
   "cell_type": "code",
   "execution_count": 10,
   "id": "937a2269-127e-47c9-91a5-41a1549e4066",
   "metadata": {},
   "outputs": [
    {
     "data": {
      "text/plain": [
       "0        10.739349\n",
       "1        10.612779\n",
       "2        10.500977\n",
       "3        10.290483\n",
       "4        10.448744\n",
       "           ...    \n",
       "11909    10.739024\n",
       "11910    10.945018\n",
       "11911    10.832122\n",
       "11912    10.838031\n",
       "11913    10.274913\n",
       "Name: msrp, Length: 11914, dtype: float64"
      ]
     },
     "execution_count": 10,
     "metadata": {},
     "output_type": "execute_result"
    }
   ],
   "source": [
    "price_logs = np.log1p(df.msrp)\n",
    "price_logs"
   ]
  },
  {
   "cell_type": "code",
   "execution_count": 11,
   "id": "5eec3385-4ab8-42a5-b4d9-ad5c8454b5d2",
   "metadata": {},
   "outputs": [
    {
     "data": {
      "text/plain": [
       "<Axes: xlabel='msrp', ylabel='Count'>"
      ]
     },
     "execution_count": 11,
     "metadata": {},
     "output_type": "execute_result"
    },
    {
     "data": {
      "image/png": "[encoded data removed]",
      "text/plain": [
       "<Figure size 640x480 with 1 Axes>"
      ]
     },
     "metadata": {},
     "output_type": "display_data"
    }
   ],
   "source": [
    "sns.histplot(price_logs, bins = 50)"
   ]
  },
  {
   "cell_type": "markdown",
   "id": "2e125db9-2ae0-4709-823b-79b6de0ab558",
   "metadata": {},
   "source": [
    "Missing values"
   ]
  },
  {
   "cell_type": "code",
   "execution_count": 12,
   "id": "38dab203-4d04-42a9-a034-0720f3c879d2",
   "metadata": {},
   "outputs": [
    {
     "data": {
      "text/plain": [
       "make                    0\n",
       "model                   0\n",
       "year                    0\n",
       "engine_fuel_type        3\n",
       "engine_hp              69\n",
       "engine_cylinders       30\n",
       "transmission_type       0\n",
       "driven_wheels           0\n",
       "number_of_doors         6\n",
       "market_category      3742\n",
       "vehicle_size            0\n",
       "vehicle_style           0\n",
       "highway_mpg             0\n",
       "city_mpg                0\n",
       "popularity              0\n",
       "msrp                    0\n",
       "dtype: int64"
      ]
     },
     "execution_count": 12,
     "metadata": {},
     "output_type": "execute_result"
    }
   ],
   "source": [
    "df.isnull().sum()"
   ]
  },
  {
   "cell_type": "markdown",
   "id": "cdd17490-050e-42c0-a5e3-00db4c204079",
   "metadata": {},
   "source": [
    "## Setting Up The Validation Framework"
   ]
  },
  {
   "cell_type": "code",
   "execution_count": 13,
   "id": "2d44fa65-14f0-42a7-bff6-f99d175f2965",
   "metadata": {},
   "outputs": [],
   "source": [
    "n = len(df)\n",
    "n_val = int(n * 0.2)\n",
    "n_test = int(n * 0.2)\n",
    "n_train = n - n_val - n_test"
   ]
  },
  {
   "cell_type": "code",
   "execution_count": 14,
   "id": "6f7eee2b-5349-439d-a7c6-89ba0edb3e04",
   "metadata": {},
   "outputs": [
    {
     "data": {
      "text/plain": [
       "(2382, 2382, 7150)"
      ]
     },
     "execution_count": 14,
     "metadata": {},
     "output_type": "execute_result"
    }
   ],
   "source": [
    "n_val, n_test, n_train"
   ]
  },
  {
   "cell_type": "markdown",
   "id": "63f1758c-30fc-4c86-ab35-79bb5078e8d0",
   "metadata": {},
   "source": [
    "The original dataframe should be shuffled before divining it to the train, validation and test sub dataframes"
   ]
  },
  {
   "cell_type": "code",
   "execution_count": 15,
   "id": "d62a3974-4de8-4082-9fee-684dfccaa4f8",
   "metadata": {},
   "outputs": [
    {
     "data": {
      "text/plain": [
       "array([2735, 6720, 5878, ..., 6637, 2575, 7336], shape=(11914,))"
      ]
     },
     "execution_count": 15,
     "metadata": {},
     "output_type": "execute_result"
    }
   ],
   "source": [
    "idx = np.arange(n)\n",
    "np.random.seed(2)\n",
    "np.random.shuffle(idx)\n",
    "idx"
   ]
  },
  {
   "cell_type": "code",
   "execution_count": 16,
   "id": "2fd4ff89-d962-4ec6-867e-c34246ecc8c2",
   "metadata": {},
   "outputs": [
    {
     "data": {
      "text/html": [
       "<div>\n",
       "<style scoped>\n",
       "    .dataframe tbody tr th:only-of-type {\n",
       "        vertical-align: middle;\n",
       "    }\n",
       "\n",
       "    .dataframe tbody tr th {\n",
       "        vertical-align: top;\n",
       "    }\n",
       "\n",
       "    .dataframe thead th {\n",
       "        text-align: right;\n",
       "    }\n",
       "</style>\n",
       "<table border=\"1\" class=\"dataframe\">\n",
       "  <thead>\n",
       "    <tr style=\"text-align: right;\">\n",
       "      <th></th>\n",
       "      <th>make</th>\n",
       "      <th>model</th>\n",
       "      <th>year</th>\n",
       "      <th>engine_fuel_type</th>\n",
       "      <th>engine_hp</th>\n",
       "      <th>engine_cylinders</th>\n",
       "      <th>transmission_type</th>\n",
       "      <th>driven_wheels</th>\n",
       "      <th>number_of_doors</th>\n",
       "      <th>market_category</th>\n",
       "      <th>vehicle_size</th>\n",
       "      <th>vehicle_style</th>\n",
       "      <th>highway_mpg</th>\n",
       "      <th>city_mpg</th>\n",
       "      <th>popularity</th>\n",
       "      <th>msrp</th>\n",
       "    </tr>\n",
       "  </thead>\n",
       "  <tbody>\n",
       "    <tr>\n",
       "      <th>2735</th>\n",
       "      <td>chevrolet</td>\n",
       "      <td>cobalt</td>\n",
       "      <td>2008</td>\n",
       "      <td>regular_unleaded</td>\n",
       "      <td>148.0</td>\n",
       "      <td>4.0</td>\n",
       "      <td>manual</td>\n",
       "      <td>front_wheel_drive</td>\n",
       "      <td>2.0</td>\n",
       "      <td>NaN</td>\n",
       "      <td>compact</td>\n",
       "      <td>coupe</td>\n",
       "      <td>33</td>\n",
       "      <td>24</td>\n",
       "      <td>1385</td>\n",
       "      <td>14410</td>\n",
       "    </tr>\n",
       "    <tr>\n",
       "      <th>6720</th>\n",
       "      <td>toyota</td>\n",
       "      <td>matrix</td>\n",
       "      <td>2012</td>\n",
       "      <td>regular_unleaded</td>\n",
       "      <td>132.0</td>\n",
       "      <td>4.0</td>\n",
       "      <td>automatic</td>\n",
       "      <td>front_wheel_drive</td>\n",
       "      <td>4.0</td>\n",
       "      <td>hatchback</td>\n",
       "      <td>compact</td>\n",
       "      <td>4dr_hatchback</td>\n",
       "      <td>32</td>\n",
       "      <td>25</td>\n",
       "      <td>2031</td>\n",
       "      <td>19685</td>\n",
       "    </tr>\n",
       "    <tr>\n",
       "      <th>5878</th>\n",
       "      <td>subaru</td>\n",
       "      <td>impreza</td>\n",
       "      <td>2016</td>\n",
       "      <td>regular_unleaded</td>\n",
       "      <td>148.0</td>\n",
       "      <td>4.0</td>\n",
       "      <td>automatic</td>\n",
       "      <td>all_wheel_drive</td>\n",
       "      <td>4.0</td>\n",
       "      <td>hatchback</td>\n",
       "      <td>compact</td>\n",
       "      <td>4dr_hatchback</td>\n",
       "      <td>37</td>\n",
       "      <td>28</td>\n",
       "      <td>640</td>\n",
       "      <td>19795</td>\n",
       "    </tr>\n",
       "    <tr>\n",
       "      <th>11190</th>\n",
       "      <td>volkswagen</td>\n",
       "      <td>vanagon</td>\n",
       "      <td>1991</td>\n",
       "      <td>regular_unleaded</td>\n",
       "      <td>90.0</td>\n",
       "      <td>4.0</td>\n",
       "      <td>manual</td>\n",
       "      <td>rear_wheel_drive</td>\n",
       "      <td>3.0</td>\n",
       "      <td>NaN</td>\n",
       "      <td>large</td>\n",
       "      <td>passenger_minivan</td>\n",
       "      <td>18</td>\n",
       "      <td>16</td>\n",
       "      <td>873</td>\n",
       "      <td>2000</td>\n",
       "    </tr>\n",
       "    <tr>\n",
       "      <th>4554</th>\n",
       "      <td>ford</td>\n",
       "      <td>f-150</td>\n",
       "      <td>2017</td>\n",
       "      <td>flex-fuel_(unleaded/e85)</td>\n",
       "      <td>385.0</td>\n",
       "      <td>8.0</td>\n",
       "      <td>automatic</td>\n",
       "      <td>four_wheel_drive</td>\n",
       "      <td>4.0</td>\n",
       "      <td>flex_fuel</td>\n",
       "      <td>large</td>\n",
       "      <td>crew_cab_pickup</td>\n",
       "      <td>21</td>\n",
       "      <td>15</td>\n",
       "      <td>5657</td>\n",
       "      <td>56260</td>\n",
       "    </tr>\n",
       "  </tbody>\n",
       "</table>\n",
       "</div>"
      ],
      "text/plain": [
       "             make    model  year          engine_fuel_type  engine_hp  \\\n",
       "2735    chevrolet   cobalt  2008          regular_unleaded      148.0   \n",
       "6720       toyota   matrix  2012          regular_unleaded      132.0   \n",
       "5878       subaru  impreza  2016          regular_unleaded      148.0   \n",
       "11190  volkswagen  vanagon  1991          regular_unleaded       90.0   \n",
       "4554         ford    f-150  2017  flex-fuel_(unleaded/e85)      385.0   \n",
       "\n",
       "       engine_cylinders transmission_type      driven_wheels  number_of_doors  \\\n",
       "2735                4.0            manual  front_wheel_drive              2.0   \n",
       "6720                4.0         automatic  front_wheel_drive              4.0   \n",
       "5878                4.0         automatic    all_wheel_drive              4.0   \n",
       "11190               4.0            manual   rear_wheel_drive              3.0   \n",
       "4554                8.0         automatic   four_wheel_drive              4.0   \n",
       "\n",
       "      market_category vehicle_size      vehicle_style  highway_mpg  city_mpg  \\\n",
       "2735              NaN      compact              coupe           33        24   \n",
       "6720        hatchback      compact      4dr_hatchback           32        25   \n",
       "5878        hatchback      compact      4dr_hatchback           37        28   \n",
       "11190             NaN        large  passenger_minivan           18        16   \n",
       "4554        flex_fuel        large    crew_cab_pickup           21        15   \n",
       "\n",
       "       popularity   msrp  \n",
       "2735         1385  14410  \n",
       "6720         2031  19685  \n",
       "5878          640  19795  \n",
       "11190         873   2000  \n",
       "4554         5657  56260  "
      ]
     },
     "execution_count": 16,
     "metadata": {},
     "output_type": "execute_result"
    }
   ],
   "source": [
    "df_shuffled = df.iloc[idx]\n",
    "df_train = df_shuffled.iloc[:n_train].copy()\n",
    "df_val = df_shuffled.iloc[n_train:n_train+n_val].copy()\n",
    "df_test = df_shuffled.iloc[n_train+n_val:].copy()\n",
    "df_train.head()"
   ]
  },
  {
   "cell_type": "markdown",
   "id": "05b242c6-64a7-400a-9edd-f7211e1a4398",
   "metadata": {},
   "source": [
    "The random index is not needed so let us reset it"
   ]
  },
  {
   "cell_type": "code",
   "execution_count": 17,
   "id": "74c16370-f462-4efa-9cac-9bc623fe7204",
   "metadata": {},
   "outputs": [
    {
     "data": {
      "text/html": [
       "<div>\n",
       "<style scoped>\n",
       "    .dataframe tbody tr th:only-of-type {\n",
       "        vertical-align: middle;\n",
       "    }\n",
       "\n",
       "    .dataframe tbody tr th {\n",
       "        vertical-align: top;\n",
       "    }\n",
       "\n",
       "    .dataframe thead th {\n",
       "        text-align: right;\n",
       "    }\n",
       "</style>\n",
       "<table border=\"1\" class=\"dataframe\">\n",
       "  <thead>\n",
       "    <tr style=\"text-align: right;\">\n",
       "      <th></th>\n",
       "      <th>make</th>\n",
       "      <th>model</th>\n",
       "      <th>year</th>\n",
       "      <th>engine_fuel_type</th>\n",
       "      <th>engine_hp</th>\n",
       "      <th>engine_cylinders</th>\n",
       "      <th>transmission_type</th>\n",
       "      <th>driven_wheels</th>\n",
       "      <th>number_of_doors</th>\n",
       "      <th>market_category</th>\n",
       "      <th>vehicle_size</th>\n",
       "      <th>vehicle_style</th>\n",
       "      <th>highway_mpg</th>\n",
       "      <th>city_mpg</th>\n",
       "      <th>popularity</th>\n",
       "      <th>msrp</th>\n",
       "    </tr>\n",
       "  </thead>\n",
       "  <tbody>\n",
       "    <tr>\n",
       "      <th>0</th>\n",
       "      <td>chevrolet</td>\n",
       "      <td>cobalt</td>\n",
       "      <td>2008</td>\n",
       "      <td>regular_unleaded</td>\n",
       "      <td>148.0</td>\n",
       "      <td>4.0</td>\n",
       "      <td>manual</td>\n",
       "      <td>front_wheel_drive</td>\n",
       "      <td>2.0</td>\n",
       "      <td>NaN</td>\n",
       "      <td>compact</td>\n",
       "      <td>coupe</td>\n",
       "      <td>33</td>\n",
       "      <td>24</td>\n",
       "      <td>1385</td>\n",
       "      <td>14410</td>\n",
       "    </tr>\n",
       "    <tr>\n",
       "      <th>1</th>\n",
       "      <td>toyota</td>\n",
       "      <td>matrix</td>\n",
       "      <td>2012</td>\n",
       "      <td>regular_unleaded</td>\n",
       "      <td>132.0</td>\n",
       "      <td>4.0</td>\n",
       "      <td>automatic</td>\n",
       "      <td>front_wheel_drive</td>\n",
       "      <td>4.0</td>\n",
       "      <td>hatchback</td>\n",
       "      <td>compact</td>\n",
       "      <td>4dr_hatchback</td>\n",
       "      <td>32</td>\n",
       "      <td>25</td>\n",
       "      <td>2031</td>\n",
       "      <td>19685</td>\n",
       "    </tr>\n",
       "    <tr>\n",
       "      <th>2</th>\n",
       "      <td>subaru</td>\n",
       "      <td>impreza</td>\n",
       "      <td>2016</td>\n",
       "      <td>regular_unleaded</td>\n",
       "      <td>148.0</td>\n",
       "      <td>4.0</td>\n",
       "      <td>automatic</td>\n",
       "      <td>all_wheel_drive</td>\n",
       "      <td>4.0</td>\n",
       "      <td>hatchback</td>\n",
       "      <td>compact</td>\n",
       "      <td>4dr_hatchback</td>\n",
       "      <td>37</td>\n",
       "      <td>28</td>\n",
       "      <td>640</td>\n",
       "      <td>19795</td>\n",
       "    </tr>\n",
       "    <tr>\n",
       "      <th>3</th>\n",
       "      <td>volkswagen</td>\n",
       "      <td>vanagon</td>\n",
       "      <td>1991</td>\n",
       "      <td>regular_unleaded</td>\n",
       "      <td>90.0</td>\n",
       "      <td>4.0</td>\n",
       "      <td>manual</td>\n",
       "      <td>rear_wheel_drive</td>\n",
       "      <td>3.0</td>\n",
       "      <td>NaN</td>\n",
       "      <td>large</td>\n",
       "      <td>passenger_minivan</td>\n",
       "      <td>18</td>\n",
       "      <td>16</td>\n",
       "      <td>873</td>\n",
       "      <td>2000</td>\n",
       "    </tr>\n",
       "    <tr>\n",
       "      <th>4</th>\n",
       "      <td>ford</td>\n",
       "      <td>f-150</td>\n",
       "      <td>2017</td>\n",
       "      <td>flex-fuel_(unleaded/e85)</td>\n",
       "      <td>385.0</td>\n",
       "      <td>8.0</td>\n",
       "      <td>automatic</td>\n",
       "      <td>four_wheel_drive</td>\n",
       "      <td>4.0</td>\n",
       "      <td>flex_fuel</td>\n",
       "      <td>large</td>\n",
       "      <td>crew_cab_pickup</td>\n",
       "      <td>21</td>\n",
       "      <td>15</td>\n",
       "      <td>5657</td>\n",
       "      <td>56260</td>\n",
       "    </tr>\n",
       "  </tbody>\n",
       "</table>\n",
       "</div>"
      ],
      "text/plain": [
       "         make    model  year          engine_fuel_type  engine_hp  \\\n",
       "0   chevrolet   cobalt  2008          regular_unleaded      148.0   \n",
       "1      toyota   matrix  2012          regular_unleaded      132.0   \n",
       "2      subaru  impreza  2016          regular_unleaded      148.0   \n",
       "3  volkswagen  vanagon  1991          regular_unleaded       90.0   \n",
       "4        ford    f-150  2017  flex-fuel_(unleaded/e85)      385.0   \n",
       "\n",
       "   engine_cylinders transmission_type      driven_wheels  number_of_doors  \\\n",
       "0               4.0            manual  front_wheel_drive              2.0   \n",
       "1               4.0         automatic  front_wheel_drive              4.0   \n",
       "2               4.0         automatic    all_wheel_drive              4.0   \n",
       "3               4.0            manual   rear_wheel_drive              3.0   \n",
       "4               8.0         automatic   four_wheel_drive              4.0   \n",
       "\n",
       "  market_category vehicle_size      vehicle_style  highway_mpg  city_mpg  \\\n",
       "0             NaN      compact              coupe           33        24   \n",
       "1       hatchback      compact      4dr_hatchback           32        25   \n",
       "2       hatchback      compact      4dr_hatchback           37        28   \n",
       "3             NaN        large  passenger_minivan           18        16   \n",
       "4       flex_fuel        large    crew_cab_pickup           21        15   \n",
       "\n",
       "   popularity   msrp  \n",
       "0        1385  14410  \n",
       "1        2031  19685  \n",
       "2         640  19795  \n",
       "3         873   2000  \n",
       "4        5657  56260  "
      ]
     },
     "execution_count": 17,
     "metadata": {},
     "output_type": "execute_result"
    }
   ],
   "source": [
    "df_train = df_train.reset_index(drop=True)\n",
    "df_val = df_val.reset_index(drop=True)\n",
    "df_test = df_test.reset_index(drop=True)\n",
    "df_train.head()"
   ]
  },
  {
   "cell_type": "markdown",
   "id": "5256057f-af4c-4af2-a470-15e09062e57c",
   "metadata": {},
   "source": [
    "We have got necessary dataframes 'X' for training, validation and testing so let us extract 'y'"
   ]
  },
  {
   "cell_type": "code",
   "execution_count": 18,
   "id": "8223173a-dca6-4045-afbd-df1de5cad99f",
   "metadata": {},
   "outputs": [],
   "source": [
    "y_train = np.log1p(df_train.msrp.values)\n",
    "y_val = np.log1p(df_val.msrp.values)\n",
    "y_test = np.log1p(df_test.msrp.values)"
   ]
  },
  {
   "cell_type": "markdown",
   "id": "bb9ec888-1a4c-4ce7-b7d4-fe602dcc6397",
   "metadata": {},
   "source": [
    "Let us remove msrp series from our dataframes"
   ]
  },
  {
   "cell_type": "code",
   "execution_count": 19,
   "id": "d0454463-08f0-4512-bf9c-4726746fbc01",
   "metadata": {},
   "outputs": [],
   "source": [
    "df_train.drop(columns=['msrp'], errors='ignore', inplace=True)\n",
    "df_val.drop(columns=['msrp'], errors='ignore', inplace=True)\n",
    "df_test.drop(columns=['msrp'], errors='ignore', inplace=True)"
   ]
  },
  {
   "cell_type": "markdown",
   "id": "4f0c2a14-dbd5-416a-85dc-1c0c4a27dc49",
   "metadata": {},
   "source": [
    "## Linear regression"
   ]
  },
  {
   "cell_type": "markdown",
   "id": "20fec971-3db1-49b0-872a-b890449cdf04",
   "metadata": {},
   "source": [
    "Suppose we have a list of characteristics of a random car"
   ]
  },
  {
   "cell_type": "code",
   "execution_count": 20,
   "id": "beb363d8-1be3-42c4-86a1-8397290c63a2",
   "metadata": {},
   "outputs": [
    {
     "data": {
      "text/plain": [
       "make                                 rolls-royce\n",
       "model                     phantom_drophead_coupe\n",
       "year                                        2015\n",
       "engine_fuel_type     premium_unleaded_(required)\n",
       "engine_hp                                  453.0\n",
       "engine_cylinders                            12.0\n",
       "transmission_type                      automatic\n",
       "driven_wheels                   rear_wheel_drive\n",
       "number_of_doors                              2.0\n",
       "market_category        exotic,luxury,performance\n",
       "vehicle_size                               large\n",
       "vehicle_style                        convertible\n",
       "highway_mpg                                   19\n",
       "city_mpg                                      11\n",
       "popularity                                    86\n",
       "Name: 10, dtype: object"
      ]
     },
     "execution_count": 20,
     "metadata": {},
     "output_type": "execute_result"
    }
   ],
   "source": [
    "df_train.iloc[10]"
   ]
  },
  {
   "cell_type": "markdown",
   "id": "25868c19-7106-4bde-ac6a-a80e3ab63b5d",
   "metadata": {},
   "source": [
    "We want to use **engine_hp**, **highway_mpg** and **popularity** to predict a car price"
   ]
  },
  {
   "cell_type": "code",
   "execution_count": 21,
   "id": "708ed636-15d9-4620-9e83-f10874abc494",
   "metadata": {},
   "outputs": [],
   "source": [
    "xi = [453.0, 19, 86]"
   ]
  },
  {
   "cell_type": "markdown",
   "id": "a195f0a2-05ae-4842-9c69-001a7336db19",
   "metadata": {},
   "source": [
    "In that case, the linear regression formula will look like this<br> \n",
    "$g(xi) = w_0 + w_1 \\times xi_1 + w_2 \\times xi_2 + w_3 \\times xi_3$<br>\n",
    "or a shorthand version<br>\n",
    "$g(xi) = w_0 + \\Sigma_{j=1}^3(w_j \\times x_ij)$"
   ]
  },
  {
   "cell_type": "markdown",
   "id": "e7a4ed21-7fab-4f11-861d-fb62bdb0488d",
   "metadata": {},
   "source": [
    "## Linear regression vector form"
   ]
  },
  {
   "cell_type": "markdown",
   "id": "a0361ef4-fc3f-497c-b889-2c3717c7ac66",
   "metadata": {},
   "source": [
    "Looking at the last part of the formula above we see the dot product (vector-vector multiplication). $g(xi) = w_0 + x_i^T \\times w$\n",
    "\n",
    "Let’s implement again the dot product (vector-vector multiplication)"
   ]
  },
  {
   "cell_type": "code",
   "execution_count": 22,
   "id": "0c76e00b-a3e6-4d17-b2a9-1591c29011a0",
   "metadata": {},
   "outputs": [],
   "source": [
    "def dot(xi, w):\n",
    "    n = len(xi)\n",
    "     \n",
    "    res = 0.0\n",
    "    for j in range(n):\n",
    "        res = res + xi[j] * w[j]\n",
    "         \n",
    "    return res"
   ]
  },
  {
   "cell_type": "markdown",
   "id": "b53859ad-189c-4bac-9d62-5c5500845d4a",
   "metadata": {},
   "source": [
    "Based on that the implementation of the linear_regression function could look like:"
   ]
  },
  {
   "cell_type": "code",
   "execution_count": 23,
   "id": "23c157a0-2ba4-448f-ad51-0b20fd09ac5b",
   "metadata": {},
   "outputs": [],
   "source": [
    "def linear_regression(xi):\n",
    "    return w0 + dot(xi, w) "
   ]
  },
  {
   "cell_type": "markdown",
   "id": "6ef70cd4-dead-4820-bcc7-ee9dc7827ad1",
   "metadata": {},
   "source": [
    "To make the last equation more simple, we can imagine there is one more feature $x_{i0}$, that is always equal to 1.\n",
    "\n",
    "$g(xi) = w_0 + x_i^T \\times w \\implies g(xi) = w_0x_{i0} + x_i^T \\times w$\n",
    "\n",
    "That means vector $w$ becomes a $n+1$ dimensional vector:\n",
    "\n",
    "- $w = [w_0, w_1, w_2, … w_n]$\n",
    "- $x_i = [x_{i0}, x_{i1}, x_{i2}, …, x_{in}] = [1, x_{i1}, x_{i2}, …, x_{in}]$\n",
    "\n",
    "That means we can use the dot product for the entire regression."
   ]
  },
  {
   "cell_type": "code",
   "execution_count": 24,
   "id": "eeaa4dde-1c17-41cc-9cb0-bf0c64ae12f2",
   "metadata": {},
   "outputs": [],
   "source": [
    "xi = [138, 24, 1385]\n",
    "w0 = 7.17\n",
    "w = [0.01, 0.04, 0.002]"
   ]
  },
  {
   "cell_type": "code",
   "execution_count": 25,
   "id": "34c15456-2b8c-4d23-a9d4-92da7f4b3768",
   "metadata": {},
   "outputs": [
    {
     "data": {
      "text/plain": [
       "[7.17, 0.01, 0.04, 0.002]"
      ]
     },
     "execution_count": 25,
     "metadata": {},
     "output_type": "execute_result"
    }
   ],
   "source": [
    "w_new = [w0] + w\n",
    "w_new"
   ]
  },
  {
   "cell_type": "code",
   "execution_count": 26,
   "id": "f96ace09-b5d0-48ea-9eb8-cdea1c9067c8",
   "metadata": {},
   "outputs": [
    {
     "data": {
      "text/plain": [
       "[138, 24, 1385]"
      ]
     },
     "execution_count": 26,
     "metadata": {},
     "output_type": "execute_result"
    }
   ],
   "source": [
    "xi"
   ]
  },
  {
   "cell_type": "markdown",
   "id": "88fbd8fd-0383-4f74-956a-01933044266f",
   "metadata": {},
   "source": [
    "The updated code for linear_regression function looks now like"
   ]
  },
  {
   "cell_type": "code",
   "execution_count": 27,
   "id": "bdcecace-6303-4eb2-9391-1c748076c41c",
   "metadata": {},
   "outputs": [
    {
     "data": {
      "text/plain": [
       "12.280000000000001"
      ]
     },
     "execution_count": 27,
     "metadata": {},
     "output_type": "execute_result"
    }
   ],
   "source": [
    "def linear_regression(xi):\n",
    "    xi = [1] + xi\n",
    "    return dot(xi, w_new)\n",
    " \n",
    "linear_regression(xi)"
   ]
  },
  {
   "cell_type": "markdown",
   "id": "02393b39-4669-459a-a55f-50b5b25fd23a",
   "metadata": {},
   "source": [
    "Having done this, let’s go back to thinking about all the examples together.\n",
    "$X$ is a $m \\times x_{n+1}$ dimensional matrix (with $m$ rows and $n+1$ columns)"
   ]
  },
  {
   "attachments": {
    "aeea2a3f-5db4-4f2c-b3b7-cc887e252dec.png": {
     "image/png": "[encoded data removed]"
    }
   },
   "cell_type": "markdown",
   "id": "c19a56b7-ed64-4190-9c35-1ab2c17d2f1e",
   "metadata": {},
   "source": [
    "![image.png](attachment:aeea2a3f-5db4-4f2c-b3b7-cc887e252dec.png)"
   ]
  },
  {
   "cell_type": "markdown",
   "id": "98501101-96d9-4b27-a6a3-b2e7a805d769",
   "metadata": {},
   "source": [
    "What we have to do here, for each row of $X$ we multiply this row with the vector $w$. This vector contains our predictions, therefor we call it $y_{pred}$."
   ]
  },
  {
   "attachments": {
    "6e87e967-a9c9-426d-9591-f91f48b8e541.png": {
     "image/png": "[encoded data removed]"
    }
   },
   "cell_type": "markdown",
   "id": "d3e1f178-0659-4b6b-bb8d-a60c0de60ced",
   "metadata": {},
   "source": [
    "![image.png](attachment:6e87e967-a9c9-426d-9591-f91f48b8e541.png)"
   ]
  },
  {
   "cell_type": "markdown",
   "id": "cabea27a-dff9-479c-8d90-f9f275415347",
   "metadata": {},
   "source": [
    "To sum up. What we need to do to get our model $g$ is a matrix vector multiplication between $X$ and $w$."
   ]
  },
  {
   "cell_type": "code",
   "execution_count": 28,
   "id": "71125bab-adaf-476b-b91b-ee602d3bbc7e",
   "metadata": {},
   "outputs": [],
   "source": [
    "w0 = 7.17\n",
    "w = [0.01, 0.04, 0.002]\n",
    "w_new = [w0] + w\n",
    " \n",
    "x1  = [1, 148, 24, 1385]\n",
    "x2  = [1, 132, 25, 2031]\n",
    "x10 = [1, 453, 11, 86]"
   ]
  },
  {
   "cell_type": "markdown",
   "id": "c29fef9d-0512-40cc-a6e2-e293bd24466d",
   "metadata": {},
   "source": [
    "$X$ becomes a list of lists"
   ]
  },
  {
   "cell_type": "code",
   "execution_count": 29,
   "id": "05a61144-b357-4ac6-b1de-33f3d3e21a83",
   "metadata": {},
   "outputs": [
    {
     "data": {
      "text/plain": [
       "[[1, 148, 24, 1385], [1, 132, 25, 2031], [1, 453, 11, 86]]"
      ]
     },
     "execution_count": 29,
     "metadata": {},
     "output_type": "execute_result"
    }
   ],
   "source": [
    "X = [x1, x2, x10]\n",
    "X"
   ]
  },
  {
   "cell_type": "markdown",
   "id": "78ee3f2e-3353-47a1-a6f2-29acab4c3ae2",
   "metadata": {},
   "source": [
    "This turns the list of lists into a matrix"
   ]
  },
  {
   "cell_type": "code",
   "execution_count": 30,
   "id": "2e49aeb1-587a-4d3c-b293-a68d7854c548",
   "metadata": {},
   "outputs": [
    {
     "data": {
      "text/plain": [
       "array([[   1,  148,   24, 1385],\n",
       "       [   1,  132,   25, 2031],\n",
       "       [   1,  453,   11,   86]])"
      ]
     },
     "execution_count": 30,
     "metadata": {},
     "output_type": "execute_result"
    }
   ],
   "source": [
    "X = np.array(X)\n",
    "X"
   ]
  },
  {
   "cell_type": "markdown",
   "id": "005eaec1-7e3b-4d10-a37a-819713456343",
   "metadata": {},
   "source": [
    "Now we have predictions, so for each car we have a price for this car"
   ]
  },
  {
   "cell_type": "code",
   "execution_count": 31,
   "id": "523664b7-cc7a-4c41-b902-c4c2f0ddf7ff",
   "metadata": {},
   "outputs": [],
   "source": [
    "y = X.dot(w_new)"
   ]
  },
  {
   "cell_type": "markdown",
   "id": "face2792-d4da-4778-be0a-e68fd0276d1a",
   "metadata": {},
   "source": [
    "Shortcut to not do -1 manually to get the real $ price"
   ]
  },
  {
   "cell_type": "code",
   "execution_count": 32,
   "id": "7a04a7fb-d81e-4b6d-af69-a2ff87fcd973",
   "metadata": {},
   "outputs": [
    {
     "data": {
      "text/plain": [
       "array([237992.82334859, 768348.51018973, 222347.22211011])"
      ]
     },
     "execution_count": 32,
     "metadata": {},
     "output_type": "execute_result"
    }
   ],
   "source": [
    "np.expm1(y) "
   ]
  },
  {
   "cell_type": "markdown",
   "id": "023b34a5-43d6-465d-a7f2-e6b5b032b545",
   "metadata": {},
   "source": [
    "The next snippet shows the implementation of the adapted linear_regression function"
   ]
  },
  {
   "cell_type": "code",
   "execution_count": 33,
   "id": "fcd45630-c424-4698-89b3-222582b5b5fc",
   "metadata": {},
   "outputs": [
    {
     "data": {
      "text/plain": [
       "array([237992.82334859, 768348.51018973, 222347.22211011])"
      ]
     },
     "execution_count": 33,
     "metadata": {},
     "output_type": "execute_result"
    }
   ],
   "source": [
    "def linear_regression(X):\n",
    "    return X.dot(w_new)\n",
    " \n",
    "y = linear_regression(X)\n",
    "np.expm1(y)"
   ]
  },
  {
   "cell_type": "markdown",
   "id": "a9d8d32b-eb70-4b6f-a9d2-2a5ff6def542",
   "metadata": {},
   "source": [
    "## Training of a linear regression model"
   ]
  },
  {
   "cell_type": "markdown",
   "id": "e542a109-5981-4fc0-a4eb-78ac28b1df94",
   "metadata": {},
   "source": [
    "From the last article we know that we need to multiply the feature matrix $X$ with weights vector $w$ to get $y$ (the prediction for price).\n",
    "\n",
    "$g(X) = X \\times w \\approx y$"
   ]
  },
  {
   "cell_type": "markdown",
   "id": "af1dbff6-88bd-43ea-9c0d-068f30f79a40",
   "metadata": {},
   "source": [
    "Actually we want this $X \\times w$ to be equal to $y$, but often it’s not possible.\n",
    "To achieve this, we need to find a way to compute $w$."
   ]
  },
  {
   "cell_type": "markdown",
   "id": "7dae0bb2-8021-4ac2-83eb-d0227eb1fef3",
   "metadata": {},
   "source": [
    "We could have multiply both parts of our equation to $X^{-1}$:\n",
    "\n",
    "$X \\times w = y$\n",
    "\n",
    "$(X^{-1} \\times X) \\times w = X^{-1} \\times y$\n",
    "\n",
    "$X^{-1} \\times X$ turns to an identity matrix $I$, and in that case it will become as follows:\n",
    "\n",
    "$I \\times w = X^{-1} \\times y$\n",
    "\n",
    "And we could have get rid off $I$ and solve the equation, but the thing is that our $X$ is not actually a square matrix as it is rather rectangular one since it has more rows than columns. As a result, we can't obtain $I$. So how we can solve it? \n",
    "\n",
    "Let us try to find an approximate solution, and append $X^T$ to both side of the equation.\n",
    "\n",
    "$X^T \\times X \\times w = X^T \\times y$\n",
    "\n",
    "$X^T \\times X$ is actually a thing called **GRAM MATRIX**. For **GRAM MATRIX** $X^T \\times X$ the inverse exists (not in all cases), because it is a square matrix (n+1) x (n+1)"
   ]
  },
  {
   "cell_type": "markdown",
   "id": "a4e2d85d-e03b-4074-bfa2-c59c47187323",
   "metadata": {},
   "source": [
    "![Illustration of Gram Matrix](https://www.researchgate.net/profile/Ngo-Le-Huy-Hien/publication/356667127/figure/fig4/AS:1098113318170624@1638822025033/The-Gram-Matrix-is-created-from-a-target-image-and-a-reference-image.jpg)"
   ]
  },
  {
   "cell_type": "markdown",
   "id": "749000d9-cb95-43a2-89a1-2670c359ad61",
   "metadata": {},
   "source": [
    "So let us add the inverse to our gram matrix $(X^T \\times X)$\n",
    "\n",
    "$(X^T \\times X)^{-1} \\times (X^T \\times X) \\times w = (X^T \\times X)^{-1} \\times X^T \\times y$\n",
    "\n",
    "In this case $(X^T \\times X)^{-1} \\times (X^T \\times X)$ will become an identity matrix $I$\n",
    "\n",
    "$I \\times w = (X^T \\times X)^{-1} \\times X^T \\times y$\n",
    "\n",
    "Now we can get rid of $I$ since, as it was mentioned previously, when any square matrix is multiplied by the identity matrix of the appropriate size, the result is the original matrix leaves unchanged, so the solution for our equation will be as follow:\n",
    "\n",
    "$w = (X^T \\times X)^{-1} \\times X^T \\times y$"
   ]
  },
  {
   "cell_type": "markdown",
   "id": "45a5e95d-527d-46fb-80b4-60f9927070d6",
   "metadata": {},
   "source": [
    "Now we know what to do. Let us implement the function **train_linear_regression**, that takes the feature matrix $X$ and the target variable $y$ and returns the vector w."
   ]
  },
  {
   "cell_type": "code",
   "execution_count": 34,
   "id": "0cd37ce9-8ae7-4e7e-abde-3055e0222414",
   "metadata": {},
   "outputs": [],
   "source": [
    "def train_linear_regression(X, y):\n",
    "    pass"
   ]
  },
  {
   "cell_type": "markdown",
   "id": "eb851cb4-107c-4bb4-9a85-59de7a502093",
   "metadata": {},
   "source": [
    "But before proceeding with the implementation, let us prepare some sample data to further test of our **train_linear_regression** function"
   ]
  },
  {
   "cell_type": "code",
   "execution_count": 35,
   "id": "87fee3ee-fe7a-41dd-96b2-e29e8b603c82",
   "metadata": {},
   "outputs": [
    {
     "data": {
      "text/plain": [
       "array([[ 148,   24, 1385],\n",
       "       [ 132,   25, 2031],\n",
       "       [ 453,   11,   86],\n",
       "       [ 158,   24,  185],\n",
       "       [ 172,   25,  201],\n",
       "       [ 413,   11,   83],\n",
       "       [  38,   54,  185],\n",
       "       [ 142,   25,  431],\n",
       "       [ 453,   31,   86]])"
      ]
     },
     "execution_count": 35,
     "metadata": {},
     "output_type": "execute_result"
    }
   ],
   "source": [
    "X =[\n",
    "    [148, 24, 1385],\n",
    "    [132, 25, 2031],\n",
    "    [453, 11, 86],\n",
    "    [158, 24, 185],\n",
    "    [172, 25, 201],\n",
    "    [413, 11, 83],\n",
    "    [38, 54, 185],\n",
    "    [142, 25, 431],\n",
    "    [453, 31, 86],  \n",
    "]\n",
    " \n",
    "X = np.array(X)\n",
    "X"
   ]
  },
  {
   "cell_type": "code",
   "execution_count": 36,
   "id": "d4a396c6-e0cc-418e-a7f6-d3332b9f00ef",
   "metadata": {},
   "outputs": [
    {
     "data": {
      "text/plain": [
       "[10000, 20000, 15000, 25000, 10000, 20000, 15000, 25000, 12000]"
      ]
     },
     "execution_count": 36,
     "metadata": {},
     "output_type": "execute_result"
    }
   ],
   "source": [
    "y = [10000, 20000, 15000, 25000, 10000, 20000, 15000, 25000, 12000]\n",
    "y"
   ]
  },
  {
   "cell_type": "markdown",
   "id": "ee04539d-f98a-4e7b-bbf6-3e5509de33f3",
   "metadata": {},
   "source": [
    "From the last article we know that we need to add a new column with ones to the feature matrix $X$. That is for the multiplication with $w_0$. We remember that we can use **np.ones()** to get a vector with ones at each position."
   ]
  },
  {
   "cell_type": "code",
   "execution_count": 37,
   "id": "7573fdb7-11e2-45bb-831b-b3a1aaf33a7b",
   "metadata": {},
   "outputs": [
    {
     "data": {
      "text/plain": [
       "array([1., 1., 1., 1., 1., 1., 1., 1., 1.])"
      ]
     },
     "execution_count": 37,
     "metadata": {},
     "output_type": "execute_result"
    }
   ],
   "source": [
    "ones = np.ones(X.shape[0])\n",
    "ones"
   ]
  },
  {
   "cell_type": "markdown",
   "id": "6173c1a7-dbf2-4a2d-a571-03154705580c",
   "metadata": {},
   "source": [
    "Now we need to stack this vector of ones with our feature matrix $X$. For this we can use the NumPy function **np.column_stack()** as shown in the next snippet."
   ]
  },
  {
   "cell_type": "code",
   "execution_count": 38,
   "id": "5c9deb3c-9466-4376-9f6f-2b383c78b77d",
   "metadata": {},
   "outputs": [
    {
     "data": {
      "text/plain": [
       "array([[1.000e+00, 1.480e+02, 2.400e+01, 1.385e+03],\n",
       "       [1.000e+00, 1.320e+02, 2.500e+01, 2.031e+03],\n",
       "       [1.000e+00, 4.530e+02, 1.100e+01, 8.600e+01],\n",
       "       [1.000e+00, 1.580e+02, 2.400e+01, 1.850e+02],\n",
       "       [1.000e+00, 1.720e+02, 2.500e+01, 2.010e+02],\n",
       "       [1.000e+00, 4.130e+02, 1.100e+01, 8.300e+01],\n",
       "       [1.000e+00, 3.800e+01, 5.400e+01, 1.850e+02],\n",
       "       [1.000e+00, 1.420e+02, 2.500e+01, 4.310e+02],\n",
       "       [1.000e+00, 4.530e+02, 3.100e+01, 8.600e+01]])"
      ]
     },
     "execution_count": 38,
     "metadata": {},
     "output_type": "execute_result"
    }
   ],
   "source": [
    "X = np.column_stack([ones, X])\n",
    "X"
   ]
  },
  {
   "cell_type": "markdown",
   "id": "8efe7dd4-fb7b-4621-adc3-fa9d86841149",
   "metadata": {},
   "source": [
    "We have everything we need to test our solution $w = (X^T \\times X)^{-1} \\times X^T \\times y$"
   ]
  },
  {
   "cell_type": "code",
   "execution_count": 39,
   "id": "ca9c0cb3-cad6-4b8b-bcff-ca8e36d91268",
   "metadata": {},
   "outputs": [
    {
     "data": {
      "text/plain": [
       "array([ 3.00092529e+04, -2.27839691e+01, -2.57690874e+02, -2.30322797e+00])"
      ]
     },
     "execution_count": 39,
     "metadata": {},
     "output_type": "execute_result"
    }
   ],
   "source": [
    "# GRAM MATRIX\n",
    "XTX = X.T.dot(X)\n",
    " \n",
    "# Inverse GRAM MATRIX\n",
    "XTX_inv = np.linalg.inv(XTX)\n",
    "\n",
    "# w_full contains all the weights\n",
    "w_full = XTX_inv.dot(X.T).dot(y)\n",
    "w_full"
   ]
  },
  {
   "cell_type": "markdown",
   "id": "d3193ea5-c098-45ba-a2d4-b84762fff556",
   "metadata": {},
   "source": [
    "From that vector **w_full** we can extract $w_0$ and all the remaining weights:"
   ]
  },
  {
   "cell_type": "code",
   "execution_count": 40,
   "id": "eab9ed71-e1f8-477b-8497-0584fae358a2",
   "metadata": {},
   "outputs": [
    {
     "data": {
      "text/plain": [
       "(np.float64(30009.252922766562),\n",
       " array([ -22.78396914, -257.69087426,   -2.30322797]))"
      ]
     },
     "execution_count": 40,
     "metadata": {},
     "output_type": "execute_result"
    }
   ],
   "source": [
    "w0 = w_full[0]\n",
    "w = w_full[1:]\n",
    "w0, w"
   ]
  },
  {
   "cell_type": "markdown",
   "id": "3d107e29-f077-437c-917e-0bc1895fa513",
   "metadata": {},
   "source": [
    "Let us now implement the function **train_linear_regression**, that takes the feature matrix $X$ and the target variable $y$ and returns $w_0$ and the vector $w$."
   ]
  },
  {
   "cell_type": "code",
   "execution_count": 41,
   "id": "a1611ce1-9e89-4a62-b36b-27e558207e0a",
   "metadata": {},
   "outputs": [],
   "source": [
    "def train_linear_regression(X, y):\n",
    "    ones = np.ones(X.shape[0])\n",
    "    X = np.column_stack([ones, X])\n",
    "     \n",
    "    XTX = X.T.dot(X)\n",
    "    XTX_inv = np.linalg.inv(XTX)\n",
    "    w_full = XTX_inv.dot(X.T).dot(y)\n",
    "     \n",
    "    return w_full[0], w_full[1:]"
   ]
  },
  {
   "cell_type": "markdown",
   "id": "f3c63d94-7dc1-4747-b484-755add6fb30c",
   "metadata": {},
   "source": [
    "Let us test the implemented function with some simple examples:"
   ]
  },
  {
   "cell_type": "code",
   "execution_count": 42,
   "id": "a0218e60-19a9-41ba-aa0a-5433dbe4c8b4",
   "metadata": {},
   "outputs": [
    {
     "data": {
      "text/plain": [
       "(np.float64(30009.252922766562),\n",
       " array([ -22.78396914, -257.69087426,   -2.30322797]))"
      ]
     },
     "execution_count": 42,
     "metadata": {},
     "output_type": "execute_result"
    }
   ],
   "source": [
    "X =[\n",
    "    [148, 24, 1385],\n",
    "    [132, 25, 2031],\n",
    "    [453, 11, 86],\n",
    "    [158, 24, 185],\n",
    "    [172, 25, 201],\n",
    "    [413, 11, 83],\n",
    "    [38, 54, 185],\n",
    "    [142, 25, 431],\n",
    "    [453, 31, 86],  \n",
    "]\n",
    " \n",
    "X = np.array(X)\n",
    "y = [10000, 20000, 15000, 25000, 10000, 20000, 15000, 25000, 12000]\n",
    " \n",
    "train_linear_regression(X, y)"
   ]
  },
  {
   "cell_type": "markdown",
   "id": "0621753b-22fa-4563-8e93-3e78288be5e9",
   "metadata": {},
   "source": [
    "## Car price baseline model"
   ]
  },
  {
   "cell_type": "markdown",
   "id": "1bba0b57-a2b9-4308-bc3e-d41940e76a29",
   "metadata": {},
   "source": [
    "The next code snippet shows how to find all numerical columns"
   ]
  },
  {
   "cell_type": "code",
   "execution_count": 43,
   "id": "c71851fe-8172-4446-9090-b1ab7a58e109",
   "metadata": {},
   "outputs": [
    {
     "data": {
      "text/plain": [
       "make                  object\n",
       "model                 object\n",
       "year                   int64\n",
       "engine_fuel_type      object\n",
       "engine_hp            float64\n",
       "engine_cylinders     float64\n",
       "transmission_type     object\n",
       "driven_wheels         object\n",
       "number_of_doors      float64\n",
       "market_category       object\n",
       "vehicle_size          object\n",
       "vehicle_style         object\n",
       "highway_mpg            int64\n",
       "city_mpg               int64\n",
       "popularity             int64\n",
       "dtype: object"
      ]
     },
     "execution_count": 43,
     "metadata": {},
     "output_type": "execute_result"
    }
   ],
   "source": [
    "df_train.dtypes"
   ]
  },
  {
   "cell_type": "markdown",
   "id": "5fdad7c4-e7f2-4f1b-a22d-d419664343d7",
   "metadata": {},
   "source": [
    "Now let us extract the following numerical columns from the training dataset: **engine_hp**, **engine_cylinders**, **highway_mpg**, **city_mpg**, and **popularity**."
   ]
  },
  {
   "cell_type": "code",
   "execution_count": 44,
   "id": "ee198964-bc44-495b-975c-1c1b68d890c5",
   "metadata": {},
   "outputs": [
    {
     "data": {
      "text/html": [
       "<div>\n",
       "<style scoped>\n",
       "    .dataframe tbody tr th:only-of-type {\n",
       "        vertical-align: middle;\n",
       "    }\n",
       "\n",
       "    .dataframe tbody tr th {\n",
       "        vertical-align: top;\n",
       "    }\n",
       "\n",
       "    .dataframe thead th {\n",
       "        text-align: right;\n",
       "    }\n",
       "</style>\n",
       "<table border=\"1\" class=\"dataframe\">\n",
       "  <thead>\n",
       "    <tr style=\"text-align: right;\">\n",
       "      <th></th>\n",
       "      <th>engine_hp</th>\n",
       "      <th>engine_cylinders</th>\n",
       "      <th>highway_mpg</th>\n",
       "      <th>city_mpg</th>\n",
       "      <th>popularity</th>\n",
       "    </tr>\n",
       "  </thead>\n",
       "  <tbody>\n",
       "    <tr>\n",
       "      <th>0</th>\n",
       "      <td>148.0</td>\n",
       "      <td>4.0</td>\n",
       "      <td>33</td>\n",
       "      <td>24</td>\n",
       "      <td>1385</td>\n",
       "    </tr>\n",
       "    <tr>\n",
       "      <th>1</th>\n",
       "      <td>132.0</td>\n",
       "      <td>4.0</td>\n",
       "      <td>32</td>\n",
       "      <td>25</td>\n",
       "      <td>2031</td>\n",
       "    </tr>\n",
       "    <tr>\n",
       "      <th>2</th>\n",
       "      <td>148.0</td>\n",
       "      <td>4.0</td>\n",
       "      <td>37</td>\n",
       "      <td>28</td>\n",
       "      <td>640</td>\n",
       "    </tr>\n",
       "    <tr>\n",
       "      <th>3</th>\n",
       "      <td>90.0</td>\n",
       "      <td>4.0</td>\n",
       "      <td>18</td>\n",
       "      <td>16</td>\n",
       "      <td>873</td>\n",
       "    </tr>\n",
       "    <tr>\n",
       "      <th>4</th>\n",
       "      <td>385.0</td>\n",
       "      <td>8.0</td>\n",
       "      <td>21</td>\n",
       "      <td>15</td>\n",
       "      <td>5657</td>\n",
       "    </tr>\n",
       "  </tbody>\n",
       "</table>\n",
       "</div>"
      ],
      "text/plain": [
       "   engine_hp  engine_cylinders  highway_mpg  city_mpg  popularity\n",
       "0      148.0               4.0           33        24        1385\n",
       "1      132.0               4.0           32        25        2031\n",
       "2      148.0               4.0           37        28         640\n",
       "3       90.0               4.0           18        16         873\n",
       "4      385.0               8.0           21        15        5657"
      ]
     },
     "execution_count": 44,
     "metadata": {},
     "output_type": "execute_result"
    }
   ],
   "source": [
    "base = ['engine_hp', 'engine_cylinders', 'highway_mpg', 'city_mpg', 'popularity']\n",
    " \n",
    "df_train[base].head()"
   ]
  },
  {
   "cell_type": "markdown",
   "id": "2bb3a071-13d7-43e1-a84f-89d16b3fd774",
   "metadata": {},
   "source": [
    "### Value extraction\n",
    "\n",
    "We need to extract the values to use them in training."
   ]
  },
  {
   "cell_type": "code",
   "execution_count": 45,
   "id": "14ef422c-a9e9-4bab-abef-f2e815a69961",
   "metadata": {},
   "outputs": [
    {
     "data": {
      "text/plain": [
       "array([[ 148.,    4.,   33.,   24., 1385.],\n",
       "       [ 132.,    4.,   32.,   25., 2031.],\n",
       "       [ 148.,    4.,   37.,   28.,  640.],\n",
       "       ...,\n",
       "       [ 285.,    6.,   22.,   17.,  549.],\n",
       "       [ 563.,   12.,   21.,   13.,   86.],\n",
       "       [ 200.,    4.,   31.,   22.,  873.]], shape=(7150, 5))"
      ]
     },
     "execution_count": 45,
     "metadata": {},
     "output_type": "execute_result"
    }
   ],
   "source": [
    "X_train = df_train[base].values\n",
    "X_train"
   ]
  },
  {
   "cell_type": "markdown",
   "id": "1d574acc-6e66-4796-aa03-ad073d5c8cee",
   "metadata": {},
   "source": [
    "We have already prices from training dataset"
   ]
  },
  {
   "cell_type": "code",
   "execution_count": 46,
   "id": "f2b0ad53-bacf-4fc8-8c3f-1296719e8be2",
   "metadata": {},
   "outputs": [
    {
     "data": {
      "text/plain": [
       "array([ 9.57574708,  9.887663  ,  9.89323518, ..., 10.45380308,\n",
       "       12.62248099, 10.54061978], shape=(7150,))"
      ]
     },
     "execution_count": 46,
     "metadata": {},
     "output_type": "execute_result"
    }
   ],
   "source": [
    "y_train"
   ]
  },
  {
   "cell_type": "markdown",
   "id": "568337d3-1086-4402-8ca2-972b10f526c2",
   "metadata": {},
   "source": [
    "### Missing values"
   ]
  },
  {
   "cell_type": "markdown",
   "id": "b59be948-9508-486c-af6d-808359595e7d",
   "metadata": {},
   "source": [
    "So let us try to train our model"
   ]
  },
  {
   "cell_type": "code",
   "execution_count": 47,
   "id": "15ee8a41-35f0-4bd2-b639-503ab5087240",
   "metadata": {},
   "outputs": [
    {
     "data": {
      "text/plain": [
       "(np.float64(nan), array([nan, nan, nan, nan, nan]))"
      ]
     },
     "execution_count": 47,
     "metadata": {},
     "output_type": "execute_result"
    }
   ],
   "source": [
    "train_linear_regression(X_train, y_train)"
   ]
  },
  {
   "cell_type": "markdown",
   "id": "523c8877-3529-4624-b6e6-6ad19c270205",
   "metadata": {},
   "source": [
    "Oops, something went wrong. We have just got **nan** values. It happened due to **X_train** has null values"
   ]
  },
  {
   "cell_type": "code",
   "execution_count": 48,
   "id": "71fce210-0061-4370-8667-4a156e898191",
   "metadata": {},
   "outputs": [
    {
     "data": {
      "text/plain": [
       "engine_hp           40\n",
       "engine_cylinders    14\n",
       "highway_mpg          0\n",
       "city_mpg             0\n",
       "popularity           0\n",
       "dtype: int64"
      ]
     },
     "execution_count": 48,
     "metadata": {},
     "output_type": "execute_result"
    }
   ],
   "source": [
    "df_train[base].isnull().sum()"
   ]
  },
  {
   "cell_type": "markdown",
   "id": "a16d94fb-bd15-4bda-89a8-eaa91a9695d0",
   "metadata": {},
   "source": [
    "As you can see there are two columns that have missing values. The easiest thing we can do is fill them with zeros. But notice filling it with 0 makes the model ignore this feature, because:\n",
    "\n",
    "$g(x_i) = w_0 + x_{i1} \\times w_1 + x_{i2} \\times w_2$\n",
    "\n",
    "if $x_{i1} = 0$ then the last equation simplifies to\n",
    "\n",
    "$g(x_i) = w_0 + 0 + x_{i2} \\times w_2$\n",
    "\n",
    "But 0 is not always the best way to deal with missing values, because that means there is an observation of a car with 0 cylinders or 0 horse powers. And a car without cylinders or 0 horse powers does not make much sense at this point. For the current example this procedure is sufficient for us."
   ]
  },
  {
   "cell_type": "code",
   "execution_count": 49,
   "id": "09e0f491-b46a-46e7-ba8e-b21f68dca251",
   "metadata": {},
   "outputs": [
    {
     "data": {
      "text/plain": [
       "engine_hp           0\n",
       "engine_cylinders    0\n",
       "highway_mpg         0\n",
       "city_mpg            0\n",
       "popularity          0\n",
       "dtype: int64"
      ]
     },
     "execution_count": 49,
     "metadata": {},
     "output_type": "execute_result"
    }
   ],
   "source": [
    "df_train[base].fillna(0).isnull().sum()"
   ]
  },
  {
   "cell_type": "markdown",
   "id": "74f7729c-975b-4896-80b0-4f5f954730f0",
   "metadata": {},
   "source": [
    "As you can see in the last snippet, the missing values have disappeared. However, now we need to apply this change in the DataFrame."
   ]
  },
  {
   "cell_type": "code",
   "execution_count": 50,
   "id": "49f88a3f-a8ed-47a7-8e2a-0ea16f0214c4",
   "metadata": {},
   "outputs": [
    {
     "data": {
      "text/plain": [
       "array([[ 148.,    4.,   33.,   24., 1385.],\n",
       "       [ 132.,    4.,   32.,   25., 2031.],\n",
       "       [ 148.,    4.,   37.,   28.,  640.],\n",
       "       ...,\n",
       "       [ 285.,    6.,   22.,   17.,  549.],\n",
       "       [ 563.,   12.,   21.,   13.,   86.],\n",
       "       [ 200.,    4.,   31.,   22.,  873.]], shape=(7150, 5))"
      ]
     },
     "execution_count": 50,
     "metadata": {},
     "output_type": "execute_result"
    }
   ],
   "source": [
    "X_train = df_train[base].fillna(0).values\n",
    "X_train"
   ]
  },
  {
   "cell_type": "markdown",
   "id": "f05271e4-7af3-4a44-bfca-24f771cb5fef",
   "metadata": {},
   "source": [
    "Now we can train our model using the **train_linear_regression** function that we have implemented in the last article. The function return the value for $w_0$ and and array for vector $w$."
   ]
  },
  {
   "cell_type": "code",
   "execution_count": 51,
   "id": "3e98784e-1315-472e-a9ff-8cd7a0134ab4",
   "metadata": {},
   "outputs": [
    {
     "data": {
      "text/plain": [
       "(np.float64(7.927257388069986),\n",
       " array([ 9.70589522e-03, -1.59103494e-01,  1.43792133e-02,  1.49441072e-02,\n",
       "        -9.06908672e-06]))"
      ]
     },
     "execution_count": 51,
     "metadata": {},
     "output_type": "execute_result"
    }
   ],
   "source": [
    "w0, w = train_linear_regression(X_train, y_train)\n",
    "w0, w"
   ]
  },
  {
   "cell_type": "markdown",
   "id": "c257f37e-ca1e-4a6b-8591-67bc531888f5",
   "metadata": {},
   "source": [
    "We can use this two variables to apply the model to our training dataset to see how well the model has learned the training data. We do not want the model to simply memorize the data, but to recognize the correlations. Later, we’ll also apply the model to unseen data so that we can eliminate memorization."
   ]
  },
  {
   "cell_type": "code",
   "execution_count": 52,
   "id": "b0ab5588-8341-4f6d-ac58-3b13d353cbb3",
   "metadata": {},
   "outputs": [
    {
     "data": {
      "text/plain": [
       "array([ 9.54792783,  9.38733977,  9.67197758, ..., 10.30423015,\n",
       "       11.9778914 ,  9.99863111], shape=(7150,))"
      ]
     },
     "execution_count": 52,
     "metadata": {},
     "output_type": "execute_result"
    }
   ],
   "source": [
    "y_pred = w0 + X_train.dot(w)\n",
    "y_pred"
   ]
  },
  {
   "cell_type": "markdown",
   "id": "88af9874-2993-46b2-8e61-4ee25fc3e629",
   "metadata": {},
   "source": [
    "### Plotting model performance"
   ]
  },
  {
   "cell_type": "markdown",
   "id": "b6900bc1-aa77-448b-80c3-bfc07810b9b0",
   "metadata": {},
   "source": [
    "Three snippets before, you can see the actual values for y. The last snippet shows the predicted values for y. You could now go through these two lists manually and compare them. A better and also visual possibility is provided by Seaborn. The next snippet shows how to output these two lists accordingly."
   ]
  },
  {
   "cell_type": "code",
   "execution_count": 53,
   "id": "66e1e261-e27d-4b97-bfa7-7f352060186c",
   "metadata": {},
   "outputs": [
    {
     "data": {
      "text/plain": [
       "<Axes: ylabel='Count'>"
      ]
     },
     "execution_count": 53,
     "metadata": {},
     "output_type": "execute_result"
    },
    {
     "data": {
      "image/png": "[encoded data removed]",
      "text/plain": [
       "<Figure size 640x480 with 1 Axes>"
      ]
     },
     "metadata": {},
     "output_type": "display_data"
    }
   ],
   "source": [
    "# alpha changes the transparency of the bars\n",
    "# bins specifies the number of bars\n",
    "sns.histplot(y_pred, color='red', alpha=0.5, bins=50)\n",
    "sns.histplot(y_train, color='blue', alpha=0.5, bins=50)"
   ]
  },
  {
   "cell_type": "markdown",
   "id": "35c62331-fcf1-400f-94f2-9a97ed46a072",
   "metadata": {},
   "source": [
    "You see from this plot that the model is not ideal but it’s better to have an objective way of saying that the model is good or not good. When we start improving the model, we also want to ensure that we really improving it. The next article is about an objective way to evaluate the performance of a regression model."
   ]
  },
  {
   "cell_type": "markdown",
   "id": "8136ee68-8f4b-47f7-80f0-e05c7c648a99",
   "metadata": {},
   "source": [
    "## RMSE"
   ]
  },
  {
   "cell_type": "markdown",
   "id": "d0c3bb49-49dd-4911-9cf8-0d4361cb1117",
   "metadata": {},
   "source": [
    "RMSE stands for Root-Mean-Squared Error. It is a common metric used in machine learning and statistics to measure the differences between predicted values and actual observed values, essentially indicating how concentrated the predictions are around the actual data. A lower RMSE signifies better model performance, with a perfect model having an RMSE of zero\n",
    "                                                                                                                                                                                    "
   ]
  },
  {
   "cell_type": "markdown",
   "id": "261b7b0d-3f9a-4e78-9fc7-5492c485d1ee",
   "metadata": {},
   "source": [
    "$RMSE = \\sqrt{\\Sigma_{i=1}^n(\\frac{(predicted_i - actual_i)^2}{n})}$"
   ]
  },
  {
   "cell_type": "code",
   "execution_count": 54,
   "id": "708d9d0d-2512-4ad0-a0d8-23950d415f9e",
   "metadata": {},
   "outputs": [],
   "source": [
    "def rmse(y, y_pred):\n",
    "    error = y_pred - y \n",
    "    se = error ** 2\n",
    "    mse = se.mean()\n",
    "    return np.sqrt(mse)"
   ]
  },
  {
   "cell_type": "code",
   "execution_count": 55,
   "id": "77a8da6e-34a9-4095-bb11-22cfbd3d9721",
   "metadata": {},
   "outputs": [
    {
     "data": {
      "text/plain": [
       "np.float64(0.7554192603920132)"
      ]
     },
     "execution_count": 55,
     "metadata": {},
     "output_type": "execute_result"
    }
   ],
   "source": [
    "rmse(y_train, y_pred)"
   ]
  },
  {
   "cell_type": "markdown",
   "id": "d9bb57bb-84fb-4620-9801-aff177de6c7d",
   "metadata": {},
   "source": [
    "## Validating the model"
   ]
  },
  {
   "cell_type": "markdown",
   "id": "0ab616d6-7dd5-4190-a711-1c0d3132d1a9",
   "metadata": {},
   "source": [
    "Let us create a separate function for a DataFrame preparation"
   ]
  },
  {
   "cell_type": "code",
   "execution_count": 56,
   "id": "4b8ca7bf-8423-4201-8985-0b6330fe0b84",
   "metadata": {},
   "outputs": [],
   "source": [
    "def prepare_X(df):\n",
    "    base = ['engine_hp', 'engine_cylinders', 'highway_mpg', 'city_mpg', 'popularity']\n",
    "    df_num = df[base]\n",
    "    df_num = df_num.fillna(0)\n",
    "    return df_num.values\n",
    "    "
   ]
  },
  {
   "cell_type": "markdown",
   "id": "77945b74-7bf0-433a-b6a7-1815d818ae98",
   "metadata": {},
   "source": [
    "Now, we will apply obtained w0 and w array to validation DataFrame and calculate an error"
   ]
  },
  {
   "cell_type": "code",
   "execution_count": 57,
   "id": "5c1f97ed-05b5-4489-abb7-1fb321152514",
   "metadata": {},
   "outputs": [
    {
     "data": {
      "text/plain": [
       "np.float64(0.761653099130156)"
      ]
     },
     "execution_count": 57,
     "metadata": {},
     "output_type": "execute_result"
    }
   ],
   "source": [
    "# Training part\n",
    "X_train = prepare_X(df_train)\n",
    "w0, w = train_linear_regression(X_train, y_train)\n",
    "\n",
    "# Validation part\n",
    "X_val = prepare_X(df_val)\n",
    "y_pred = w0 + X_val.dot(w)\n",
    "\n",
    "rmse(y_val, y_pred)"
   ]
  },
  {
   "cell_type": "markdown",
   "id": "90e40977-5b62-4dd9-81a1-8b0cfeb3e8b8",
   "metadata": {},
   "source": [
    "## Simple feature engineering"
   ]
  },
  {
   "cell_type": "markdown",
   "id": "176df478-7a4d-4ee2-a847-745a041b6f49",
   "metadata": {},
   "source": [
    "Suppose we want to develop a new feature based on the existing ones in the feature matrix X. Let’s assume we want to use the year information as an age information. Let’s assume further we have year 2017."
   ]
  },
  {
   "cell_type": "code",
   "execution_count": 58,
   "id": "487dcfa2-f77f-4456-85c7-321aaf045586",
   "metadata": {},
   "outputs": [
    {
     "data": {
      "text/plain": [
       "np.int64(2017)"
      ]
     },
     "execution_count": 58,
     "metadata": {},
     "output_type": "execute_result"
    }
   ],
   "source": [
    "df_train.year.max()"
   ]
  },
  {
   "cell_type": "code",
   "execution_count": 59,
   "id": "4d8fad25-b9a5-40e4-bc1a-ba0d8486b839",
   "metadata": {},
   "outputs": [
    {
     "data": {
      "text/plain": [
       "0        9\n",
       "1        5\n",
       "2        1\n",
       "3       26\n",
       "4        0\n",
       "        ..\n",
       "7145     2\n",
       "7146     2\n",
       "7147     2\n",
       "7148     3\n",
       "7149     0\n",
       "Name: year, Length: 7150, dtype: int64"
      ]
     },
     "execution_count": 59,
     "metadata": {},
     "output_type": "execute_result"
    }
   ],
   "source": [
    "max = df_train.year.max()\n",
    "max - df_train.year"
   ]
  },
  {
   "cell_type": "markdown",
   "id": "c7658503-7d4d-4a44-99c6-d5e594a26842",
   "metadata": {},
   "source": [
    "We can add this new feature **age** to our **prepare_X** function. What is one important remark here. It’s a good way to copy the dataframe inside **prepare_X**. Otherwise while using df you’ll modify the original data, what ist mostly not wanted."
   ]
  },
  {
   "cell_type": "code",
   "execution_count": 60,
   "id": "3bc5e816-e11b-4559-a9f4-c2c4b96c48d7",
   "metadata": {},
   "outputs": [
    {
     "data": {
      "text/plain": [
       "array([[1.480e+02, 4.000e+00, 3.300e+01, 2.400e+01, 1.385e+03, 9.000e+00],\n",
       "       [1.320e+02, 4.000e+00, 3.200e+01, 2.500e+01, 2.031e+03, 5.000e+00],\n",
       "       [1.480e+02, 4.000e+00, 3.700e+01, 2.800e+01, 6.400e+02, 1.000e+00],\n",
       "       ...,\n",
       "       [2.850e+02, 6.000e+00, 2.200e+01, 1.700e+01, 5.490e+02, 2.000e+00],\n",
       "       [5.630e+02, 1.200e+01, 2.100e+01, 1.300e+01, 8.600e+01, 3.000e+00],\n",
       "       [2.000e+02, 4.000e+00, 3.100e+01, 2.200e+01, 8.730e+02, 0.000e+00]],\n",
       "      shape=(7150, 6))"
      ]
     },
     "execution_count": 60,
     "metadata": {},
     "output_type": "execute_result"
    }
   ],
   "source": [
    "def prepare_X(df):\n",
    "    base = ['engine_hp', 'engine_cylinders', 'highway_mpg', 'city_mpg', 'popularity']\n",
    "    df = df.copy()\n",
    "     \n",
    "    df['age'] = 2017 - df.year\n",
    "    features = base + ['age']\n",
    "     \n",
    "    df_num = df[features]\n",
    "    df_num = df_num.fillna(0)\n",
    "    # extracting the Numpy array\n",
    "    X = df_num.values\n",
    "    return X\n",
    " \n",
    "X_train = prepare_X(df_train)\n",
    "X_train"
   ]
  },
  {
   "cell_type": "markdown",
   "id": "20ae04b6-99ba-4363-ab1f-9aa80f2410ea",
   "metadata": {},
   "source": [
    "The output of the last snippet shows a list of lists. Each list has 6 items – 5 numerical columns and our new ‘age’ column. Let’s train a new model and see how the model performs."
   ]
  },
  {
   "cell_type": "code",
   "execution_count": 61,
   "id": "dc98674d-63b4-4635-8551-963f24366b38",
   "metadata": {},
   "outputs": [
    {
     "data": {
      "text/plain": [
       "np.float64(0.5172055461058299)"
      ]
     },
     "execution_count": 61,
     "metadata": {},
     "output_type": "execute_result"
    }
   ],
   "source": [
    "X_train = prepare_X(df_train)\n",
    "w0, w = train_linear_regression(X_train, y_train)\n",
    " \n",
    "X_val = prepare_X(df_val)\n",
    "y_pred = w0 + X_val.dot(w)\n",
    " \n",
    "rmse(y_val, y_pred)"
   ]
  },
  {
   "cell_type": "markdown",
   "id": "eb3cc07c-c9fc-4fd2-a10a-c38317a90800",
   "metadata": {},
   "source": [
    "We can see an improvement. The rmse decreased from 0.7328022115111966 to 0.5153662333982238. The improvement in the rmse was clear. Let’s see if this improvement can be seen in the plots as well."
   ]
  },
  {
   "cell_type": "code",
   "execution_count": 62,
   "id": "1c2913da-7885-4597-9629-4b94dd1424a3",
   "metadata": {},
   "outputs": [
    {
     "data": {
      "text/plain": [
       "<Axes: ylabel='Count'>"
      ]
     },
     "execution_count": 62,
     "metadata": {},
     "output_type": "execute_result"
    },
    {
     "data": {
      "image/png": "[encoded data removed]",
      "text/plain": [
       "<Figure size 640x480 with 1 Axes>"
      ]
     },
     "metadata": {},
     "output_type": "display_data"
    }
   ],
   "source": [
    "sns.histplot(y_pred, color='red', alpha=0.5, bins=50)\n",
    "sns.histplot(y_val, color='blue', alpha=0.5, bins=50)"
   ]
  },
  {
   "cell_type": "markdown",
   "id": "f0f8ad6d-bc0d-4e39-abd6-0247f12e756d",
   "metadata": {},
   "source": [
    "Here, too, a clear improvement can be seen. Many car prices are predicted much better. But there is still space for improvement."
   ]
  },
  {
   "cell_type": "markdown",
   "id": "cbe1c248-7556-4834-aeaa-fa46953bb0ae",
   "metadata": {},
   "source": [
    "## Categorical variables"
   ]
  },
  {
   "cell_type": "markdown",
   "id": "cb75723a-593e-46e5-9570-a9a43e9eafbd",
   "metadata": {},
   "source": [
    "Categorical variables are variables that are categories (typically strings)\n",
    "\n",
    "Here: **make**, **model**, **engine_fuel_type**, **transmission_type**, **driven_wheels**, **market_category**, **vehicle_size**, **vehicle_style**. \n",
    "\n",
    "But, there is one value that looks like numerical variable, but it isn’t - **number_of_doors** is not really a numerical number."
   ]
  },
  {
   "cell_type": "code",
   "execution_count": 63,
   "id": "1e2a5b19-3e46-42cf-b79c-ff3a1de76024",
   "metadata": {},
   "outputs": [
    {
     "data": {
      "text/plain": [
       "make                  object\n",
       "model                 object\n",
       "year                   int64\n",
       "engine_fuel_type      object\n",
       "engine_hp            float64\n",
       "engine_cylinders     float64\n",
       "transmission_type     object\n",
       "driven_wheels         object\n",
       "number_of_doors      float64\n",
       "market_category       object\n",
       "vehicle_size          object\n",
       "vehicle_style         object\n",
       "highway_mpg            int64\n",
       "city_mpg               int64\n",
       "popularity             int64\n",
       "dtype: object"
      ]
     },
     "execution_count": 63,
     "metadata": {},
     "output_type": "execute_result"
    }
   ],
   "source": [
    "df_train.dtypes"
   ]
  },
  {
   "cell_type": "markdown",
   "id": "5d4f470a-bd13-4d00-8377-988461c79780",
   "metadata": {},
   "source": [
    "Typical way of encoding such categorical variables is that we represent it with a bunch of binary columns – so called **one-hot encoding**. For each value we have a different column.\n",
    "\n",
    "| Num of doors | num_doors_2 | num_doors_3 | num_doors_4 |\n",
    "| :--------: | :--------: | :--------: | :--------: |\n",
    "| 2 | 1 | 0 | 0 |\n",
    "| 3 | 0 | 1 | 0 |\n",
    "| 4 | 0 | 0 | 1 |\n",
    "| 2 | 1 | 0 | 0 |\n",
    "\n",
    "We can imitate this encoding by turning the booleans from the last snippet into integers (1 and 0) and creating a new variable for each number of doors."
   ]
  },
  {
   "cell_type": "code",
   "execution_count": 64,
   "id": "3cd2fbb5-2a08-4c30-a643-94bd84b298df",
   "metadata": {},
   "outputs": [
    {
     "data": {
      "text/plain": [
       "0       1\n",
       "1       0\n",
       "2       0\n",
       "3       0\n",
       "4       0\n",
       "       ..\n",
       "7145    1\n",
       "7146    1\n",
       "7147    0\n",
       "7148    0\n",
       "7149    0\n",
       "Name: number_of_doors, Length: 7150, dtype: int64"
      ]
     },
     "execution_count": 64,
     "metadata": {},
     "output_type": "execute_result"
    }
   ],
   "source": [
    "(df_train.number_of_doors == 2).astype('int')"
   ]
  },
  {
   "cell_type": "code",
   "execution_count": 65,
   "id": "3cc1d942-3ed7-412d-8948-5f0a8d725eb2",
   "metadata": {},
   "outputs": [
    {
     "data": {
      "text/plain": [
       "array([[148.,   4.,  33., ...,   1.,   0.,   0.],\n",
       "       [132.,   4.,  32., ...,   0.,   0.,   1.],\n",
       "       [148.,   4.,  37., ...,   0.,   0.,   1.],\n",
       "       ...,\n",
       "       [285.,   6.,  22., ...,   0.,   0.,   1.],\n",
       "       [563.,  12.,  21., ...,   0.,   0.,   1.],\n",
       "       [200.,   4.,  31., ...,   0.,   0.,   1.]], shape=(7150, 9))"
      ]
     },
     "execution_count": 65,
     "metadata": {},
     "output_type": "execute_result"
    }
   ],
   "source": [
    "def prepare_X(df):\n",
    "    df = df.copy()\n",
    "    features = base.copy()\n",
    "     \n",
    "    df['age'] = 2017 - df.year\n",
    "    features.append('age')\n",
    "     \n",
    "    for v in [2, 3, 4]:\n",
    "        df['num_doors_%s' % v] = (df.number_of_doors == v).astype('int')\n",
    "        features.append('num_doors_%s' % v)\n",
    "     \n",
    "    df_num = df[features]\n",
    "    df_num = df_num.fillna(0)\n",
    "    # extracting the Numpy array\n",
    "    X = df_num.values\n",
    "    return X\n",
    " \n",
    "prepare_X(df_train)"
   ]
  },
  {
   "cell_type": "markdown",
   "id": "9caa7ad5-9365-4e43-aa09-3fddb1efd38a",
   "metadata": {},
   "source": [
    "When you look at the output of the last snippet you see at the end of each list there are three new items – one for each number of doors (2, 3, 4). Now we can check if the model performance has improved with the new features."
   ]
  },
  {
   "cell_type": "code",
   "execution_count": 66,
   "id": "bc970c50-daef-46c7-928d-0cde10680e68",
   "metadata": {},
   "outputs": [
    {
     "data": {
      "text/plain": [
       "np.float64(0.515799564150169)"
      ]
     },
     "execution_count": 66,
     "metadata": {},
     "output_type": "execute_result"
    }
   ],
   "source": [
    "X_train = prepare_X(df_train)\n",
    "w0, w = train_linear_regression(X_train, y_train)\n",
    " \n",
    "X_val = prepare_X(df_val)\n",
    "y_pred = w0 + X_val.dot(w)\n",
    " \n",
    "rmse(y_val, y_pred)"
   ]
  },
  {
   "cell_type": "markdown",
   "id": "5bd1a59c-0014-47ab-beef-267fab269849",
   "metadata": {},
   "source": [
    "We see in contrast to the last training with rmse of 0.5153662333982238 there is only a slightly improvement, almost negligible so the number of doors feature is not that useful. Maybe the ‘Make’ information is more useful."
   ]
  },
  {
   "cell_type": "code",
   "execution_count": 67,
   "id": "bc88c737-bcac-469f-a56e-a29ca6bdfea0",
   "metadata": {},
   "outputs": [
    {
     "data": {
      "text/plain": [
       "48"
      ]
     },
     "execution_count": 67,
     "metadata": {},
     "output_type": "execute_result"
    }
   ],
   "source": [
    "df.make.nunique() "
   ]
  },
  {
   "cell_type": "markdown",
   "id": "a154875e-f8f4-4cc5-aee0-23593a0845a7",
   "metadata": {},
   "source": [
    "There are 48 unique values in the **make** column. That could be too much. Let’s look at the most popular ones."
   ]
  },
  {
   "cell_type": "code",
   "execution_count": 68,
   "id": "7a4a2252-166f-495d-94aa-9725ad540838",
   "metadata": {},
   "outputs": [
    {
     "data": {
      "text/plain": [
       "make\n",
       "chevrolet     1123\n",
       "ford           881\n",
       "volkswagen     809\n",
       "toyota         746\n",
       "dodge          626\n",
       "Name: count, dtype: int64"
      ]
     },
     "execution_count": 68,
     "metadata": {},
     "output_type": "execute_result"
    }
   ],
   "source": [
    "df.make.value_counts().head()"
   ]
  },
  {
   "cell_type": "markdown",
   "id": "f6f80ed5-1a26-45db-98d6-9ddd126d38e1",
   "metadata": {},
   "source": [
    "If we want to get the actual values, we use the index property"
   ]
  },
  {
   "cell_type": "code",
   "execution_count": 69,
   "id": "107379ce-b0a7-49d0-8ca8-5e88394c598f",
   "metadata": {},
   "outputs": [
    {
     "data": {
      "text/plain": [
       "['chevrolet', 'ford', 'volkswagen', 'toyota', 'dodge']"
      ]
     },
     "execution_count": 69,
     "metadata": {},
     "output_type": "execute_result"
    }
   ],
   "source": [
    "# Wrap it in a usual Python list\n",
    "makes = list(df.make.value_counts().head().index)\n",
    "makes"
   ]
  },
  {
   "cell_type": "markdown",
   "id": "3ed658e3-7f82-4989-934f-66a8b16df703",
   "metadata": {},
   "source": [
    "We can now adapt again our prepare_X function to add the new feature"
   ]
  },
  {
   "cell_type": "code",
   "execution_count": 70,
   "id": "94e94ad9-bada-4f3b-90e7-446ac9142143",
   "metadata": {},
   "outputs": [],
   "source": [
    "def prepare_X(df):\n",
    "    df = df.copy()\n",
    "    features = base.copy()\n",
    "     \n",
    "    df['age'] = 2017 - df.year\n",
    "    features.append('age')\n",
    "     \n",
    "    for v in [2, 3, 4]:\n",
    "        df['num_doors_%s' % v] = (df.number_of_doors == v).astype('int')\n",
    "        features.append('num_doors_%s' % v)\n",
    "         \n",
    "    for v in makes:\n",
    "        df['make_%s' % v] = (df.make == v).astype('int')\n",
    "        features.append('make_%s' % v)\n",
    "     \n",
    "    df_num = df[features]\n",
    "    df_num = df_num.fillna(0)\n",
    "    # extracting the Numpy array\n",
    "    X = df_num.values\n",
    "    return X"
   ]
  },
  {
   "cell_type": "markdown",
   "id": "4bd3be2f-1be9-4d67-9530-d97b06ac638d",
   "metadata": {},
   "source": [
    "Now we can use our new **prepare_X** function and train and validate again."
   ]
  },
  {
   "cell_type": "code",
   "execution_count": 71,
   "id": "00b73775-28a5-4931-af18-109e70adad86",
   "metadata": {},
   "outputs": [
    {
     "data": {
      "text/plain": [
       "np.float64(0.5076038849556795)"
      ]
     },
     "execution_count": 71,
     "metadata": {},
     "output_type": "execute_result"
    }
   ],
   "source": [
    "X_train = prepare_X(df_train)\n",
    "w0, w = train_linear_regression(X_train, y_train)\n",
    " \n",
    "X_val = prepare_X(df_val)\n",
    "y_pred = w0 + X_val.dot(w)\n",
    " \n",
    "rmse(y_val, y_pred)"
   ]
  },
  {
   "cell_type": "markdown",
   "id": "94ca4aeb-1480-4183-900d-191eba327efb",
   "metadata": {},
   "source": [
    "The model performance has once again improved somewhat. How about adding all the other categorical variables now? This should improve the performance even more, right? Let’s try."
   ]
  },
  {
   "cell_type": "code",
   "execution_count": 72,
   "id": "8a710409-25c8-42c4-8f52-0c8aa6378079",
   "metadata": {},
   "outputs": [
    {
     "data": {
      "text/plain": [
       "{'make': ['chevrolet', 'ford', 'volkswagen', 'toyota', 'dodge'],\n",
       " 'engine_fuel_type': ['regular_unleaded',\n",
       "  'premium_unleaded_(required)',\n",
       "  'premium_unleaded_(recommended)',\n",
       "  'flex-fuel_(unleaded/e85)',\n",
       "  'diesel'],\n",
       " 'transmission_type': ['automatic',\n",
       "  'manual',\n",
       "  'automated_manual',\n",
       "  'direct_drive',\n",
       "  'unknown'],\n",
       " 'driven_wheels': ['front_wheel_drive',\n",
       "  'rear_wheel_drive',\n",
       "  'all_wheel_drive',\n",
       "  'four_wheel_drive'],\n",
       " 'market_category': ['crossover',\n",
       "  'flex_fuel',\n",
       "  'luxury',\n",
       "  'luxury,performance',\n",
       "  'hatchback'],\n",
       " 'vehicle_size': ['compact', 'midsize', 'large'],\n",
       " 'vehicle_style': ['sedan',\n",
       "  '4dr_suv',\n",
       "  'coupe',\n",
       "  'convertible',\n",
       "  '4dr_hatchback']}"
      ]
     },
     "execution_count": 72,
     "metadata": {},
     "output_type": "execute_result"
    }
   ],
   "source": [
    "categorical_variables = [\n",
    "    'make', 'engine_fuel_type', 'transmission_type', 'driven_wheels', \n",
    "    'market_category', 'vehicle_size', 'vehicle_style'\n",
    "]\n",
    " \n",
    "# The dictionary category will contain for each of the categories \n",
    "# the top 5 most common ones\n",
    "categories = {}\n",
    " \n",
    "for c in categorical_variables:\n",
    "    categories[c] = list(df[c].value_counts().head().index)\n",
    "     \n",
    "categories"
   ]
  },
  {
   "cell_type": "markdown",
   "id": "64d52572-3906-4606-9deb-420be080c113",
   "metadata": {},
   "source": [
    "The next snippet shows how to implement the new features to our **prepare_X** function. This time we need two loops as described inline."
   ]
  },
  {
   "cell_type": "code",
   "execution_count": 73,
   "id": "ef654472-ce3d-4b7f-937c-84d2db6e0dd3",
   "metadata": {},
   "outputs": [],
   "source": [
    "def prepare_X(df):\n",
    "    # this is good way to do, otherwise while using df you'll modify the original data\n",
    "    # what is mostly not wanted\n",
    "    df = df.copy()\n",
    "    features = base.copy()\n",
    "     \n",
    "    df['age'] = 2017 - df.year\n",
    "    features.append('age')\n",
    "     \n",
    "    for v in [2, 3, 4]:\n",
    "        df['num_doors_%s' % v] = (df.number_of_doors == v).astype('int')\n",
    "        features.append('num_doors_%s' % v)\n",
    " \n",
    "    # First loop is for each key of the dictionary categories.\n",
    "    # Second loop is for each value inside the categories\n",
    "    # For each of this values we create a new column.\n",
    "    for c, values in categories.items():    \n",
    "        for v in values:\n",
    "            df['%s_%s' % (c, v)] = (df[c] == v).astype('int')\n",
    "            features.append('%s_%s' % (c, v))\n",
    "     \n",
    "    df_num = df[features]\n",
    "    df_num = df_num.fillna(0)\n",
    "    # extracting the Numpy array\n",
    "    X = df_num.values\n",
    "    return X"
   ]
  },
  {
   "cell_type": "markdown",
   "id": "ab0203b5-9632-4eeb-beaf-0f7a6c729b38",
   "metadata": {},
   "source": [
    "Now we can train the model again and apply it to the validation data to see what is the model performance."
   ]
  },
  {
   "cell_type": "code",
   "execution_count": 74,
   "id": "7c52a884-838a-45d7-b884-071cf88e4c22",
   "metadata": {},
   "outputs": [
    {
     "data": {
      "text/plain": [
       "np.float64(23.019020704791835)"
      ]
     },
     "execution_count": 74,
     "metadata": {},
     "output_type": "execute_result"
    }
   ],
   "source": [
    "X_train = prepare_X(df_train)\n",
    "w0, w = train_linear_regression(X_train, y_train)\n",
    " \n",
    "X_val = prepare_X(df_val)\n",
    "y_pred = w0 + X_val.dot(w)\n",
    " \n",
    "rmse(y_val, y_pred)"
   ]
  },
  {
   "cell_type": "markdown",
   "id": "e38dbcd8-6dff-4c8d-ab5a-f58757e3f8e2",
   "metadata": {},
   "source": [
    "This time the model performance is very bad. As you can see the RMSE (23.01) is very large. So something went wrong. In the next article we’ll see why that has happened and how to fix it."
   ]
  },
  {
   "cell_type": "markdown",
   "id": "b25df031-2de7-4c8f-8842-0a09432d4c23",
   "metadata": {},
   "source": [
    "## Regularization"
   ]
  },
  {
   "cell_type": "markdown",
   "id": "5cd98510-3b0c-4f40-9cbf-ca8df9803686",
   "metadata": {},
   "source": [
    "The topic for this part is regularization as a way to solve the problem of bad model performance.\n",
    "\n",
    "If the feature matrix has duplicate columns (or columns that can be expressed as a linear combination of other columns), it will not have an inverse matrix."
   ]
  },
  {
   "cell_type": "code",
   "execution_count": 75,
   "id": "7a0640ac-376c-4c00-b1f4-6d3f6e07b446",
   "metadata": {},
   "outputs": [
    {
     "data": {
      "text/plain": [
       "array([[140, 111, 111],\n",
       "       [111, 108, 108],\n",
       "       [111, 108, 108]])"
      ]
     },
     "execution_count": 75,
     "metadata": {},
     "output_type": "execute_result"
    }
   ],
   "source": [
    "# You see here 2nd and 3rd columns are identical\n",
    "X = [\n",
    "    [4, 4, 4],\n",
    "    [3, 5, 5],\n",
    "    [5, 1, 1],\n",
    "    [5, 4, 4],\n",
    "    [7, 5, 5],\n",
    "    [4, 5, 5]\n",
    "]\n",
    " \n",
    "X = np.array(X) \n",
    "XTX = X.T.dot(X)\n",
    "XTX"
   ]
  },
  {
   "cell_type": "code",
   "execution_count": 76,
   "id": "a09bedb1-8a21-4310-b02e-ca6e46321bab",
   "metadata": {},
   "outputs": [],
   "source": [
    "#np.linalg.inv(XTX) it will throw an Error - LinAlgError: Singular matrix"
   ]
  },
  {
   "cell_type": "markdown",
   "id": "8fa9f41c-c2be-42ac-bf70-2dfe5fa7b5b5",
   "metadata": {},
   "source": [
    "But, sometimes this error could be passed if certain values are slightly different between duplicated columns."
   ]
  },
  {
   "cell_type": "code",
   "execution_count": 77,
   "id": "e7b278ad-8ce3-4597-9715-4becc3bdaa9e",
   "metadata": {},
   "outputs": [
    {
     "data": {
      "text/plain": [
       "array([[ 3.92646538e-02, -1.54615164e+05,  1.54615121e+05],\n",
       "       [-1.54615170e+05,  3.51843724e+13, -3.51843721e+13],\n",
       "       [ 1.54615129e+05, -3.51843721e+13,  3.51843718e+13]])"
      ]
     },
     "execution_count": 77,
     "metadata": {},
     "output_type": "execute_result"
    }
   ],
   "source": [
    "X = [\n",
    "    [4, 4, 4],\n",
    "    [3, 5, 5],\n",
    "    [5, 1, 1],\n",
    "    [5, 4, 4],\n",
    "    [7, 5, 5],\n",
    "    [4, 5, 5.0000001],\n",
    "]\n",
    " \n",
    "X = np.array(X) \n",
    "XTX = X.T.dot(X)\n",
    "np.linalg.inv(XTX)"
   ]
  },
  {
   "cell_type": "markdown",
   "id": "e75c349c-d692-441c-918e-077f8b635ac6",
   "metadata": {},
   "source": [
    "So, if we apply the normal equation with this feature matrix, and the values associated with duplicated columns are very large, it will decrease the model performance. To solve this issue, one alternative is adding a small number to the diagonal of the feature matrix, which corresponds to regularization.\n",
    "\n",
    "Remember there was the eye function to get an Identity matrix. Maybe we can use this"
   ]
  },
  {
   "cell_type": "code",
   "execution_count": 78,
   "id": "5a62e5ef-d5a1-4d87-be0a-ea6669205704",
   "metadata": {},
   "outputs": [
    {
     "data": {
      "text/plain": [
       "array([[140.01     , 111.       , 111.0000004],\n",
       "       [111.       , 108.01     , 108.0000005],\n",
       "       [111.0000004, 108.0000005, 108.010001 ]])"
      ]
     },
     "execution_count": 78,
     "metadata": {},
     "output_type": "execute_result"
    }
   ],
   "source": [
    "np.eye(3)\n",
    "alpha = 0.01\n",
    " \n",
    "# When adding XTX to this matrix, it adds one on the diagonal\n",
    "XTX + np.eye(3)\n",
    " \n",
    "# We can multiply this eye by a smal number\n",
    "XTX = XTX + alpha * np.eye(3)\n",
    "XTX"
   ]
  },
  {
   "cell_type": "code",
   "execution_count": 79,
   "id": "74ce10a2-2614-42b2-afa5-2190cbb6e22a",
   "metadata": {},
   "outputs": [
    {
     "data": {
      "text/plain": [
       "array([[ 3.85624710e-02, -1.98161275e-02, -1.98156884e-02],\n",
       "       [-1.98161275e-02,  5.00124979e+01, -4.99875026e+01],\n",
       "       [-1.98156884e-02, -4.99875026e+01,  5.00124970e+01]])"
      ]
     },
     "execution_count": 79,
     "metadata": {},
     "output_type": "execute_result"
    }
   ],
   "source": [
    "np.linalg.inv(XTX)"
   ]
  },
  {
   "cell_type": "markdown",
   "id": "9b690ebd-f105-4e92-99e8-c9d46d4b0b65",
   "metadata": {},
   "source": [
    "We are controlling the weights that they don't grow too much. **alpha** = 0.01 is a parameter, and the larger this parameter, the larger the numbers on the diagonal, and the smaller the values in the inverse XTX matrix.\n",
    "\n",
    "This leads us to reimplementing the train_linear_regression function again."
   ]
  },
  {
   "cell_type": "code",
   "execution_count": 80,
   "id": "3b257395-df5b-4d8a-af44-20ad80f29001",
   "metadata": {},
   "outputs": [],
   "source": [
    "# reg = regularized\n",
    "# parameter r = short for regularization\n",
    "def train_linear_regression_reg(X, y, r=0.001):\n",
    "    ones = np.ones(X.shape[0])\n",
    "    X = np.column_stack([ones, X])\n",
    "     \n",
    "    XTX = X.T.dot(X)\n",
    "    XTX = XTX + r * np.eye(XTX.shape[0])\n",
    "     \n",
    "    XTX_inv = np.linalg.inv(XTX)\n",
    "    w_full = XTX_inv.dot(X.T).dot(y)\n",
    "     \n",
    "    return w_full[0], w_full[1:]"
   ]
  },
  {
   "cell_type": "markdown",
   "id": "e28a91bd-256a-4bd9-aeed-0522e6c7cd3a",
   "metadata": {},
   "source": [
    "To test the effect of regularization, we need to re-train our model and apply it to the validation data. Then we can calculate the rmse."
   ]
  },
  {
   "cell_type": "code",
   "execution_count": 81,
   "id": "95141c71-f34c-43b3-ba97-90999d942ee9",
   "metadata": {},
   "outputs": [
    {
     "data": {
      "text/plain": [
       "np.float64(0.45652199012897743)"
      ]
     },
     "execution_count": 81,
     "metadata": {},
     "output_type": "execute_result"
    }
   ],
   "source": [
    "X_train = prepare_X(df_train)\n",
    "w0, w = train_linear_regression_reg(X_train, y_train, r=0.01)\n",
    " \n",
    "X_val = prepare_X(df_val)\n",
    "y_pred = w0 + X_val.dot(w)\n",
    " \n",
    "rmse(y_val, y_pred)"
   ]
  },
  {
   "cell_type": "markdown",
   "id": "a249405f-9ba9-4da9-9c06-9d8d47baf2c8",
   "metadata": {},
   "source": [
    "This is the best result we had before, but we don't know that there is no better one.\n",
    "\n",
    "To find a good value for r is the topic of the next article."
   ]
  },
  {
   "cell_type": "markdown",
   "id": "626d1d56-9624-46b3-8102-24bbd8257462",
   "metadata": {},
   "source": [
    "# Tuning the model"
   ]
  },
  {
   "cell_type": "markdown",
   "id": "814c0bb4-332c-421e-9f34-82b9a56c92d6",
   "metadata": {},
   "source": [
    "The topic for this article is finding the best regularization parameter for our linear regression model. We realized that the parameter **r** affects the quality of our model and now we try to find the best value for this **r**."
   ]
  },
  {
   "cell_type": "code",
   "execution_count": 82,
   "id": "ff8c53c1-f331-4f77-8a99-1aaab4f0cdc6",
   "metadata": {},
   "outputs": [
    {
     "name": "stdout",
     "output_type": "stream",
     "text": [
      "reg parameter:  0.0 bias term:  4011091003551887.0 rmse:  23.019020704791835\n",
      "reg parameter:  1e-05 bias term:  6.178192055025445 rmse:  0.45651702823445617\n",
      "reg parameter:  0.0001 bias term:  6.317246071243372 rmse:  0.45651706543230514\n",
      "reg parameter:  0.001 bias term:  6.285636717989048 rmse:  0.4565175086778138\n",
      "reg parameter:  0.01 bias term:  6.2766071476973995 rmse:  0.45652199012897743\n",
      "reg parameter:  0.1 bias term:  6.1912087238544915 rmse:  0.4565692763007501\n",
      "reg parameter:  1 bias term:  5.634896668066369 rmse:  0.45722043179930605\n",
      "reg parameter:  10 bias term:  4.283980108968471 rmse:  0.4701456932099909\n"
     ]
    }
   ],
   "source": [
    "for r in [0.0, 0.00001, 0.0001, 0.001, 0.01, 0.1, 1, 10]:\n",
    "    X_train = prepare_X(df_train)\n",
    "    w0, w = train_linear_regression_reg(X_train, y_train, r=r)\n",
    " \n",
    "    X_val = prepare_X(df_val)\n",
    "    y_pred = w0 + X_val.dot(w)\n",
    " \n",
    "    score = rmse(y_val, y_pred)\n",
    "     \n",
    "    print(\"reg parameter: \",r, \"bias term: \",w0, \"rmse: \",score)"
   ]
  },
  {
   "cell_type": "markdown",
   "id": "442b7423-2939-4d19-b779-6679375783f4",
   "metadata": {},
   "source": [
    "What you see here is using **r=0** makes the bias term huge and the rmse score aswell.\n",
    "**0.001** could be a good parameter for **r**."
   ]
  },
  {
   "cell_type": "code",
   "execution_count": 83,
   "id": "fb496f02-8656-4b0b-87dd-f8e96c948b4e",
   "metadata": {},
   "outputs": [
    {
     "name": "stdout",
     "output_type": "stream",
     "text": [
      "rmse:  0.4565175086778138\n"
     ]
    }
   ],
   "source": [
    "r = 0.001\n",
    "X_train = prepare_X(df_train)\n",
    "w0, w = train_linear_regression_reg(X_train, y_train, r=r)\n",
    " \n",
    "X_val = prepare_X(df_val)\n",
    "y_pred = w0 + X_val.dot(w)\n",
    " \n",
    "score = rmse(y_val, y_pred)\n",
    "    \n",
    "print(\"rmse: \",score)"
   ]
  },
  {
   "cell_type": "markdown",
   "id": "0397891c-c389-4137-ae2b-7aaaad85b04e",
   "metadata": {},
   "source": [
    "# Using the model"
   ]
  },
  {
   "cell_type": "markdown",
   "id": "97d77d8e-d03c-4fc1-bceb-ff32032dd4bc",
   "metadata": {},
   "source": [
    "In the last article we found the best parameter for the linear regression and in this lesson we’ll train the model again and use it. What we did so far is, we trained our model on training dataset and applied the best model on validation dataset. To check the model performance we calculated the RMSE.\n",
    "\n",
    "What we want to do now is to train our final model on both training dataset and validation dataset. We call this **FULL TRAIN**. After that we make the final evaluation on the test dataset to make sure that our model works fine and check what is the value for RMSE. It shouldn’t be too different from what we saw on the validation dataset."
   ]
  },
  {
   "cell_type": "markdown",
   "id": "6c5d1020-f0a9-4c8f-bcc7-117972ce9406",
   "metadata": {},
   "source": [
    "## Combining datasets"
   ]
  },
  {
   "cell_type": "markdown",
   "id": "50950b22-7da1-4582-8b2a-1fbd4813cf3f",
   "metadata": {},
   "source": [
    "First step to do is getting our data. So we need to combine **df_train** and **df_val** into one dataset. We can use Pandas ``concat()`` function that takes a list of dataframes and concatenates them together."
   ]
  },
  {
   "cell_type": "code",
   "execution_count": 89,
   "id": "ab42f903-09c9-456a-a04a-b69f0c91c4ac",
   "metadata": {},
   "outputs": [
    {
     "data": {
      "text/html": [
       "<div>\n",
       "<style scoped>\n",
       "    .dataframe tbody tr th:only-of-type {\n",
       "        vertical-align: middle;\n",
       "    }\n",
       "\n",
       "    .dataframe tbody tr th {\n",
       "        vertical-align: top;\n",
       "    }\n",
       "\n",
       "    .dataframe thead th {\n",
       "        text-align: right;\n",
       "    }\n",
       "</style>\n",
       "<table border=\"1\" class=\"dataframe\">\n",
       "  <thead>\n",
       "    <tr style=\"text-align: right;\">\n",
       "      <th></th>\n",
       "      <th>make</th>\n",
       "      <th>model</th>\n",
       "      <th>year</th>\n",
       "      <th>engine_fuel_type</th>\n",
       "      <th>engine_hp</th>\n",
       "      <th>engine_cylinders</th>\n",
       "      <th>transmission_type</th>\n",
       "      <th>driven_wheels</th>\n",
       "      <th>number_of_doors</th>\n",
       "      <th>market_category</th>\n",
       "      <th>vehicle_size</th>\n",
       "      <th>vehicle_style</th>\n",
       "      <th>highway_mpg</th>\n",
       "      <th>city_mpg</th>\n",
       "      <th>popularity</th>\n",
       "    </tr>\n",
       "  </thead>\n",
       "  <tbody>\n",
       "    <tr>\n",
       "      <th>0</th>\n",
       "      <td>chevrolet</td>\n",
       "      <td>cobalt</td>\n",
       "      <td>2008</td>\n",
       "      <td>regular_unleaded</td>\n",
       "      <td>148.0</td>\n",
       "      <td>4.0</td>\n",
       "      <td>manual</td>\n",
       "      <td>front_wheel_drive</td>\n",
       "      <td>2.0</td>\n",
       "      <td>NaN</td>\n",
       "      <td>compact</td>\n",
       "      <td>coupe</td>\n",
       "      <td>33</td>\n",
       "      <td>24</td>\n",
       "      <td>1385</td>\n",
       "    </tr>\n",
       "    <tr>\n",
       "      <th>1</th>\n",
       "      <td>toyota</td>\n",
       "      <td>matrix</td>\n",
       "      <td>2012</td>\n",
       "      <td>regular_unleaded</td>\n",
       "      <td>132.0</td>\n",
       "      <td>4.0</td>\n",
       "      <td>automatic</td>\n",
       "      <td>front_wheel_drive</td>\n",
       "      <td>4.0</td>\n",
       "      <td>hatchback</td>\n",
       "      <td>compact</td>\n",
       "      <td>4dr_hatchback</td>\n",
       "      <td>32</td>\n",
       "      <td>25</td>\n",
       "      <td>2031</td>\n",
       "    </tr>\n",
       "    <tr>\n",
       "      <th>2</th>\n",
       "      <td>subaru</td>\n",
       "      <td>impreza</td>\n",
       "      <td>2016</td>\n",
       "      <td>regular_unleaded</td>\n",
       "      <td>148.0</td>\n",
       "      <td>4.0</td>\n",
       "      <td>automatic</td>\n",
       "      <td>all_wheel_drive</td>\n",
       "      <td>4.0</td>\n",
       "      <td>hatchback</td>\n",
       "      <td>compact</td>\n",
       "      <td>4dr_hatchback</td>\n",
       "      <td>37</td>\n",
       "      <td>28</td>\n",
       "      <td>640</td>\n",
       "    </tr>\n",
       "    <tr>\n",
       "      <th>3</th>\n",
       "      <td>volkswagen</td>\n",
       "      <td>vanagon</td>\n",
       "      <td>1991</td>\n",
       "      <td>regular_unleaded</td>\n",
       "      <td>90.0</td>\n",
       "      <td>4.0</td>\n",
       "      <td>manual</td>\n",
       "      <td>rear_wheel_drive</td>\n",
       "      <td>3.0</td>\n",
       "      <td>NaN</td>\n",
       "      <td>large</td>\n",
       "      <td>passenger_minivan</td>\n",
       "      <td>18</td>\n",
       "      <td>16</td>\n",
       "      <td>873</td>\n",
       "    </tr>\n",
       "    <tr>\n",
       "      <th>4</th>\n",
       "      <td>ford</td>\n",
       "      <td>f-150</td>\n",
       "      <td>2017</td>\n",
       "      <td>flex-fuel_(unleaded/e85)</td>\n",
       "      <td>385.0</td>\n",
       "      <td>8.0</td>\n",
       "      <td>automatic</td>\n",
       "      <td>four_wheel_drive</td>\n",
       "      <td>4.0</td>\n",
       "      <td>flex_fuel</td>\n",
       "      <td>large</td>\n",
       "      <td>crew_cab_pickup</td>\n",
       "      <td>21</td>\n",
       "      <td>15</td>\n",
       "      <td>5657</td>\n",
       "    </tr>\n",
       "  </tbody>\n",
       "</table>\n",
       "</div>"
      ],
      "text/plain": [
       "         make    model  year          engine_fuel_type  engine_hp  \\\n",
       "0   chevrolet   cobalt  2008          regular_unleaded      148.0   \n",
       "1      toyota   matrix  2012          regular_unleaded      132.0   \n",
       "2      subaru  impreza  2016          regular_unleaded      148.0   \n",
       "3  volkswagen  vanagon  1991          regular_unleaded       90.0   \n",
       "4        ford    f-150  2017  flex-fuel_(unleaded/e85)      385.0   \n",
       "\n",
       "   engine_cylinders transmission_type      driven_wheels  number_of_doors  \\\n",
       "0               4.0            manual  front_wheel_drive              2.0   \n",
       "1               4.0         automatic  front_wheel_drive              4.0   \n",
       "2               4.0         automatic    all_wheel_drive              4.0   \n",
       "3               4.0            manual   rear_wheel_drive              3.0   \n",
       "4               8.0         automatic   four_wheel_drive              4.0   \n",
       "\n",
       "  market_category vehicle_size      vehicle_style  highway_mpg  city_mpg  \\\n",
       "0             NaN      compact              coupe           33        24   \n",
       "1       hatchback      compact      4dr_hatchback           32        25   \n",
       "2       hatchback      compact      4dr_hatchback           37        28   \n",
       "3             NaN        large  passenger_minivan           18        16   \n",
       "4       flex_fuel        large    crew_cab_pickup           21        15   \n",
       "\n",
       "   popularity  \n",
       "0        1385  \n",
       "1        2031  \n",
       "2         640  \n",
       "3         873  \n",
       "4        5657  "
      ]
     },
     "execution_count": 89,
     "metadata": {},
     "output_type": "execute_result"
    }
   ],
   "source": [
    "df_full_train = pd.concat([df_train, df_val])\n",
    "df_full_train.head(5)"
   ]
  },
  {
   "cell_type": "markdown",
   "id": "37fb9941-ad89-4c11-8d15-09b6dd1ce2f3",
   "metadata": {},
   "source": [
    "We also need to concatenate **y_train** and **y_val** to get **y_full_train**. This time we use the concatenate function of NumPy library."
   ]
  },
  {
   "cell_type": "code",
   "execution_count": 90,
   "id": "1e4ebca2-5bc7-418b-bff5-6500c161fca5",
   "metadata": {},
   "outputs": [
    {
     "data": {
      "text/plain": [
       "array([ 9.57574708,  9.887663  ,  9.89323518, ..., 11.21756062,\n",
       "        9.77542688, 10.1924563 ], shape=(9532,))"
      ]
     },
     "execution_count": 90,
     "metadata": {},
     "output_type": "execute_result"
    }
   ],
   "source": [
    "y_full_train = np.concatenate([y_train, y_val])\n",
    "y_full_train"
   ]
  },
  {
   "cell_type": "markdown",
   "id": "0fa39604-967f-4393-9707-96a2ef7715cf",
   "metadata": {},
   "source": [
    "## Resetting index\n",
    "\n",
    "When combining two dataframes it can happen that the index is not sequential. Here you can use an already known function and reset the index."
   ]
  },
  {
   "cell_type": "code",
   "execution_count": 92,
   "id": "d5cb3e24-3f70-44e3-9669-1c4117441b1d",
   "metadata": {},
   "outputs": [],
   "source": [
    "df_full_train = df_full_train.reset_index(drop=True)"
   ]
  },
  {
   "cell_type": "markdown",
   "id": "e8838d22-07f7-43b9-b739-65d9b53eec52",
   "metadata": {},
   "source": [
    "## Getting feature matrix X\n",
    "\n",
    "Now we have again a coherent dataset for training and we can prepare it for the usage as we did before. The ``prepare_X()`` function still works fine."
   ]
  },
  {
   "cell_type": "code",
   "execution_count": 91,
   "id": "bc7d83d8-6745-41f5-8711-773d556157b6",
   "metadata": {},
   "outputs": [
    {
     "data": {
      "text/plain": [
       "array([[148.,   4.,  33., ...,   1.,   0.,   0.],\n",
       "       [132.,   4.,  32., ...,   0.,   0.,   1.],\n",
       "       [148.,   4.,  37., ...,   0.,   0.,   1.],\n",
       "       ...,\n",
       "       [332.,   8.,  23., ...,   0.,   0.,   0.],\n",
       "       [148.,   4.,  34., ...,   0.,   0.,   0.],\n",
       "       [290.,   6.,  25., ...,   0.,   0.,   0.]], shape=(9532, 41))"
      ]
     },
     "execution_count": 91,
     "metadata": {},
     "output_type": "execute_result"
    }
   ],
   "source": [
    "X_full_train = prepare_X(df_full_train) \n",
    "X_full_train"
   ]
  },
  {
   "cell_type": "markdown",
   "id": "3348c765-1d03-48a9-9543-467f52c23328",
   "metadata": {},
   "source": [
    "## Train the final model\n",
    "\n",
    "Next step is to train the final model on the combined dataset. We’re using the new ``train_linear_regression_reg()`` function to get the value for $w_0$ and the vector $w$."
   ]
  },
  {
   "cell_type": "code",
   "execution_count": 93,
   "id": "56e1ea2b-52e1-478e-97ec-37a485cf2dfc",
   "metadata": {},
   "outputs": [
    {
     "data": {
      "text/plain": [
       "(np.float64(6.322830302349775),\n",
       " array([ 1.52506332e-03,  1.18188703e-01, -6.66105494e-03, -5.33413785e-03,\n",
       "        -4.87603208e-05, -9.69091838e-02, -7.92620449e-01, -8.90861655e-01,\n",
       "        -6.35100382e-01, -4.14339224e-02,  1.75560743e-01, -5.78063598e-04,\n",
       "        -1.00563877e-01, -9.27549641e-02, -4.66859195e-01,  7.98658894e-02,\n",
       "        -3.16047745e-01, -5.51981714e-01, -7.89526802e-02,  1.09397462e+00,\n",
       "         9.18667079e-01,  1.14824449e+00,  2.65138017e+00,  5.08603719e-01,\n",
       "         1.62979575e+00,  1.53049981e+00,  1.61767854e+00,  1.54567793e+00,\n",
       "        -9.70559706e-02,  3.73062128e-02, -5.81767490e-02, -2.35940871e-02,\n",
       "        -1.19357192e-02,  2.18895260e+00,  2.07458270e+00,  2.05916686e+00,\n",
       "        -5.00802769e-02,  5.62184639e-02,  1.84794024e-01,  3.32646151e-01,\n",
       "        -1.58817038e-01]))"
      ]
     },
     "execution_count": 93,
     "metadata": {},
     "output_type": "execute_result"
    }
   ],
   "source": [
    "w0, w = train_linear_regression_reg(X_full_train, y_full_train, r=0.001)\n",
    "w0, w"
   ]
  },
  {
   "cell_type": "markdown",
   "id": "68a579b9-a458-4263-85a1-e81313ec81ef",
   "metadata": {},
   "source": [
    "## Applying model to test data\n",
    "\n",
    "Now is the great moment for the final model. It must pass the final test. For this purpose we use test data, which are again prepared with the ``prepare_X()`` function. Then the model is applied to the test data and the RMSE can be calculated."
   ]
  },
  {
   "cell_type": "code",
   "execution_count": 94,
   "id": "98f8308f-9be5-4143-9231-e3ee41a6c919",
   "metadata": {},
   "outputs": [
    {
     "name": "stdout",
     "output_type": "stream",
     "text": [
      "rmse:  0.4517749310621406\n"
     ]
    }
   ],
   "source": [
    "X_test = prepare_X(df_test)\n",
    "y_pred = w0 + X_test.dot(w)\n",
    " \n",
    "score = rmse(y_test, y_pred)\n",
    "    \n",
    "print(\"rmse: \",score)"
   ]
  },
  {
   "cell_type": "markdown",
   "id": "aaa5e5d1-4a22-467f-ab81-732e7a44ba51",
   "metadata": {},
   "source": [
    "RMSE_test = 0.4517749310621406 is not so far away from RMSE_val = 0.4565175086778138. That means the model generalizes quite well and it didn’t get this score by chance. Now we have our final model and we can use it. The way we want to use it is to predict the price of an (unseen) car – unseen means here that the model hasn’t seen this car during training."
   ]
  },
  {
   "cell_type": "markdown",
   "id": "654c3496-066e-4d4e-af7a-e886f60e443c",
   "metadata": {},
   "source": [
    "## The model use case"
   ]
  },
  {
   "cell_type": "markdown",
   "id": "7e1d5d25-25be-4a78-9b0e-3879c821e228",
   "metadata": {},
   "source": [
    "Using the model means:\n",
    "\n",
    "1. Extracting all the features (getting feature vector of the car)\n",
    "2. Applying our final model to this feature vector & predicting the price"
   ]
  },
  {
   "cell_type": "markdown",
   "id": "22c83484-1d69-43fb-b1d9-426f68301225",
   "metadata": {},
   "source": [
    "## Feature Extraction\n",
    "\n",
    "For this step we can take any car from our test dataset and pretend it’s a new car. Let’s just take one car."
   ]
  },
  {
   "cell_type": "code",
   "execution_count": 95,
   "id": "be97c72e-8827-457d-a82f-b5501ad2b2d4",
   "metadata": {},
   "outputs": [
    {
     "data": {
      "text/plain": [
       "make                            toyota\n",
       "model                           sienna\n",
       "year                              2015\n",
       "engine_fuel_type      regular_unleaded\n",
       "engine_hp                        266.0\n",
       "engine_cylinders                   6.0\n",
       "transmission_type            automatic\n",
       "driven_wheels        front_wheel_drive\n",
       "number_of_doors                    4.0\n",
       "market_category                    NaN\n",
       "vehicle_size                     large\n",
       "vehicle_style        passenger_minivan\n",
       "highway_mpg                         25\n",
       "city_mpg                            18\n",
       "popularity                        2031\n",
       "Name: 20, dtype: object"
      ]
     },
     "execution_count": 95,
     "metadata": {},
     "output_type": "execute_result"
    }
   ],
   "source": [
    "df_test.iloc[20]"
   ]
  },
  {
   "cell_type": "markdown",
   "id": "7446b454-412d-4bc5-8710-642740504e02",
   "metadata": {},
   "source": [
    "Usually the way we do it is that we don’t get a dataframe here. But it could be a Python dictionary with all the information about the car. In real life you can imagine a website or an app, where people enter all the values. Then the website sends the request with all the information (as dictionary) to the model. The model replies back with the predicted price.\n",
    "\n",
    "For this example we turn this data of our car into a dictionary."
   ]
  },
  {
   "cell_type": "code",
   "execution_count": 96,
   "id": "33e4996a-0883-4402-88a3-88bb503b1270",
   "metadata": {},
   "outputs": [
    {
     "data": {
      "text/plain": [
       "{'make': 'toyota',\n",
       " 'model': 'sienna',\n",
       " 'year': 2015,\n",
       " 'engine_fuel_type': 'regular_unleaded',\n",
       " 'engine_hp': 266.0,\n",
       " 'engine_cylinders': 6.0,\n",
       " 'transmission_type': 'automatic',\n",
       " 'driven_wheels': 'front_wheel_drive',\n",
       " 'number_of_doors': 4.0,\n",
       " 'market_category': nan,\n",
       " 'vehicle_size': 'large',\n",
       " 'vehicle_style': 'passenger_minivan',\n",
       " 'highway_mpg': 25,\n",
       " 'city_mpg': 18,\n",
       " 'popularity': 2031}"
      ]
     },
     "execution_count": 96,
     "metadata": {},
     "output_type": "execute_result"
    }
   ],
   "source": [
    "car = df_test.iloc[20].to_dict()\n",
    "car"
   ]
  },
  {
   "cell_type": "markdown",
   "id": "64a6bb27-403b-4b3b-9b24-cac0c3720230",
   "metadata": {},
   "source": [
    "The car is our request and now remember the ``prepare_X`` function expects a dataframe, so we need to create a dataframe with a single row for our request."
   ]
  },
  {
   "cell_type": "code",
   "execution_count": 97,
   "id": "ea5891d2-6c79-4605-af84-e6ccc087f36b",
   "metadata": {},
   "outputs": [
    {
     "data": {
      "text/html": [
       "<div>\n",
       "<style scoped>\n",
       "    .dataframe tbody tr th:only-of-type {\n",
       "        vertical-align: middle;\n",
       "    }\n",
       "\n",
       "    .dataframe tbody tr th {\n",
       "        vertical-align: top;\n",
       "    }\n",
       "\n",
       "    .dataframe thead th {\n",
       "        text-align: right;\n",
       "    }\n",
       "</style>\n",
       "<table border=\"1\" class=\"dataframe\">\n",
       "  <thead>\n",
       "    <tr style=\"text-align: right;\">\n",
       "      <th></th>\n",
       "      <th>make</th>\n",
       "      <th>model</th>\n",
       "      <th>year</th>\n",
       "      <th>engine_fuel_type</th>\n",
       "      <th>engine_hp</th>\n",
       "      <th>engine_cylinders</th>\n",
       "      <th>transmission_type</th>\n",
       "      <th>driven_wheels</th>\n",
       "      <th>number_of_doors</th>\n",
       "      <th>market_category</th>\n",
       "      <th>vehicle_size</th>\n",
       "      <th>vehicle_style</th>\n",
       "      <th>highway_mpg</th>\n",
       "      <th>city_mpg</th>\n",
       "      <th>popularity</th>\n",
       "    </tr>\n",
       "  </thead>\n",
       "  <tbody>\n",
       "    <tr>\n",
       "      <th>0</th>\n",
       "      <td>toyota</td>\n",
       "      <td>sienna</td>\n",
       "      <td>2015</td>\n",
       "      <td>regular_unleaded</td>\n",
       "      <td>266.0</td>\n",
       "      <td>6.0</td>\n",
       "      <td>automatic</td>\n",
       "      <td>front_wheel_drive</td>\n",
       "      <td>4.0</td>\n",
       "      <td>NaN</td>\n",
       "      <td>large</td>\n",
       "      <td>passenger_minivan</td>\n",
       "      <td>25</td>\n",
       "      <td>18</td>\n",
       "      <td>2031</td>\n",
       "    </tr>\n",
       "  </tbody>\n",
       "</table>\n",
       "</div>"
      ],
      "text/plain": [
       "     make   model  year  engine_fuel_type  engine_hp  engine_cylinders  \\\n",
       "0  toyota  sienna  2015  regular_unleaded      266.0               6.0   \n",
       "\n",
       "  transmission_type      driven_wheels  number_of_doors  market_category  \\\n",
       "0         automatic  front_wheel_drive              4.0              NaN   \n",
       "\n",
       "  vehicle_size      vehicle_style  highway_mpg  city_mpg  popularity  \n",
       "0        large  passenger_minivan           25        18        2031  "
      ]
     },
     "execution_count": 97,
     "metadata": {},
     "output_type": "execute_result"
    }
   ],
   "source": [
    "df_small = pd.DataFrame([car])\n",
    "df_small"
   ]
  },
  {
   "cell_type": "markdown",
   "id": "1494e712-e677-4a0f-bb26-459b81a1ec10",
   "metadata": {},
   "source": [
    "We can use this single row DataFrame as input for the ``prepare_X()`` function to get the feature matrix. In this case our feature matrix is a feature vector."
   ]
  },
  {
   "cell_type": "code",
   "execution_count": 98,
   "id": "95db9b29-60c0-4d7e-b188-b23a804e9d2f",
   "metadata": {},
   "outputs": [
    {
     "data": {
      "text/plain": [
       "array([[2.660e+02, 6.000e+00, 2.500e+01, 1.800e+01, 2.031e+03, 2.000e+00,\n",
       "        0.000e+00, 0.000e+00, 1.000e+00, 0.000e+00, 0.000e+00, 0.000e+00,\n",
       "        1.000e+00, 0.000e+00, 1.000e+00, 0.000e+00, 0.000e+00, 0.000e+00,\n",
       "        0.000e+00, 1.000e+00, 0.000e+00, 0.000e+00, 0.000e+00, 0.000e+00,\n",
       "        1.000e+00, 0.000e+00, 0.000e+00, 0.000e+00, 0.000e+00, 0.000e+00,\n",
       "        0.000e+00, 0.000e+00, 0.000e+00, 0.000e+00, 0.000e+00, 1.000e+00,\n",
       "        0.000e+00, 0.000e+00, 0.000e+00, 0.000e+00, 0.000e+00]])"
      ]
     },
     "execution_count": 98,
     "metadata": {},
     "output_type": "execute_result"
    }
   ],
   "source": [
    "X_small = prepare_X(df_small)\n",
    "X_small"
   ]
  },
  {
   "cell_type": "markdown",
   "id": "b4da62bf-3a9b-4656-b86a-f19ca7831bd9",
   "metadata": {},
   "source": [
    "## Predicting the price\n",
    "\n",
    "The final step is to apply the final model to our requested car (feature vector) and predict the price."
   ]
  },
  {
   "cell_type": "code",
   "execution_count": 99,
   "id": "27cfe1e6-0156-44b4-8d3f-e96c06863c58",
   "metadata": {},
   "outputs": [
    {
     "data": {
      "text/plain": [
       "np.float64(10.462651700289744)"
      ]
     },
     "execution_count": 99,
     "metadata": {},
     "output_type": "execute_result"
    }
   ],
   "source": [
    "y_pred = w0 + X_small.dot(w)\n",
    "# Don't need an array but it's first (and only) item\n",
    "y_pred = y_pred[0]\n",
    "y_pred"
   ]
  },
  {
   "cell_type": "markdown",
   "id": "9a8c42aa-2e3b-424a-9fdd-21dc5ede1d50",
   "metadata": {},
   "source": [
    "10.46 is still not the price in $. To get the real price we need to undo the logarithm."
   ]
  },
  {
   "cell_type": "code",
   "execution_count": 100,
   "id": "8652c3c6-bef2-4a1f-80a3-1444b51c0420",
   "metadata": {},
   "outputs": [
    {
     "data": {
      "text/plain": [
       "np.float64(34983.19616272936)"
      ]
     },
     "execution_count": 100,
     "metadata": {},
     "output_type": "execute_result"
    }
   ],
   "source": [
    "np.expm1(y_pred)"
   ]
  },
  {
   "cell_type": "markdown",
   "id": "0d0d6a8a-774f-4809-abd7-12bc2548c3c9",
   "metadata": {},
   "source": [
    "After undoing the logarithm we get the price in dollars. So we think that a car with these characteristics should cost 34983 dollars.\n",
    "\n",
    "Lastly to get an evaluation about model performance let’s compare the predicted price to the actual price of this requested car."
   ]
  },
  {
   "cell_type": "code",
   "execution_count": 101,
   "id": "9baa46bb-3aca-4885-b7d0-08b318408916",
   "metadata": {},
   "outputs": [
    {
     "data": {
      "text/plain": [
       "np.float64(35000.00000000001)"
      ]
     },
     "execution_count": 101,
     "metadata": {},
     "output_type": "execute_result"
    }
   ],
   "source": [
    "np.expm1(y_test[20])"
   ]
  },
  {
   "cell_type": "code",
   "execution_count": null,
   "id": "02eef02f-43dd-4522-8a24-15ed3844f279",
   "metadata": {},
   "outputs": [],
   "source": []
  }
 ],
 "metadata": {
  "kernelspec": {
   "display_name": "Python 3 (ipykernel)",
   "language": "python",
   "name": "python3"
  },
  "language_info": {
   "codemirror_mode": {
    "name": "ipython",
    "version": 3
   },
   "file_extension": ".py",
   "mimetype": "text/x-python",
   "name": "python",
   "nbconvert_exporter": "python",
   "pygments_lexer": "ipython3",
   "version": "3.11.9"
  }
 },
 "nbformat": 4,
 "nbformat_minor": 5
}
