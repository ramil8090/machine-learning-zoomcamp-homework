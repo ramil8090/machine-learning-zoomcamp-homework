{
 "cells": [
  {
   "cell_type": "markdown",
   "id": "9ffaeb5a-43e0-48f0-9967-63a29941a1ea",
   "metadata": {},
   "source": [
    "# Homework"
   ]
  },
  {
   "cell_type": "code",
   "execution_count": 1,
   "id": "a44fdc13-bc2d-40d3-b50e-3643ad180046",
   "metadata": {},
   "outputs": [],
   "source": [
    "import numpy as np\n",
    "import pandas as pd"
   ]
  },
  {
   "cell_type": "markdown",
   "id": "5f962757-db03-46ac-978b-76ccb4c98b4d",
   "metadata": {},
   "source": [
    "## Dataset\n",
    "\n",
    "For this homework, we'll use the Car Fuel Efficiency dataset.\n",
    "\n",
    "You can do it with wget:\n",
    "\n",
    "``wget https://raw.githubusercontent.com/alexeygrigorev/datasets/master/car_fuel_efficiency.csv``\n",
    "\n",
    "The goal of this homework is to create a regression model for predicting the car fuel efficiency (column 'fuel_efficiency_mpg')."
   ]
  },
  {
   "cell_type": "markdown",
   "id": "2fb7230a-1ec2-465d-905c-908fef30a6ad",
   "metadata": {},
   "source": [
    "!wget 'https://raw.githubusercontent.com/alexeygrigorev/datasets/master/car_fuel_efficiency.csv'"
   ]
  },
  {
   "cell_type": "markdown",
   "id": "ff4fc2f8-9604-4c87-af89-c5713d646aeb",
   "metadata": {},
   "source": [
    "## Preparing the dataset\n",
    "\n",
    "Use only the following columns:\n",
    "\n",
    "- engine_displacement\n",
    "- horsepower\n",
    "- vehicle_weight\n",
    "- model_year\n",
    "- fuel_efficiency_mpg"
   ]
  },
  {
   "cell_type": "code",
   "execution_count": 3,
   "id": "b01090a7-54d8-4625-b592-441be86bb797",
   "metadata": {},
   "outputs": [
    {
     "data": {
      "text/html": [
       "<div>\n",
       "<style scoped>\n",
       "    .dataframe tbody tr th:only-of-type {\n",
       "        vertical-align: middle;\n",
       "    }\n",
       "\n",
       "    .dataframe tbody tr th {\n",
       "        vertical-align: top;\n",
       "    }\n",
       "\n",
       "    .dataframe thead th {\n",
       "        text-align: right;\n",
       "    }\n",
       "</style>\n",
       "<table border=\"1\" class=\"dataframe\">\n",
       "  <thead>\n",
       "    <tr style=\"text-align: right;\">\n",
       "      <th></th>\n",
       "      <th>engine_displacement</th>\n",
       "      <th>horsepower</th>\n",
       "      <th>vehicle_weight</th>\n",
       "      <th>model_year</th>\n",
       "      <th>fuel_efficiency_mpg</th>\n",
       "    </tr>\n",
       "  </thead>\n",
       "  <tbody>\n",
       "    <tr>\n",
       "      <th>0</th>\n",
       "      <td>170</td>\n",
       "      <td>159.0</td>\n",
       "      <td>3413.433759</td>\n",
       "      <td>2003</td>\n",
       "      <td>13.231729</td>\n",
       "    </tr>\n",
       "    <tr>\n",
       "      <th>1</th>\n",
       "      <td>130</td>\n",
       "      <td>97.0</td>\n",
       "      <td>3149.664934</td>\n",
       "      <td>2007</td>\n",
       "      <td>13.688217</td>\n",
       "    </tr>\n",
       "    <tr>\n",
       "      <th>2</th>\n",
       "      <td>170</td>\n",
       "      <td>78.0</td>\n",
       "      <td>3079.038997</td>\n",
       "      <td>2018</td>\n",
       "      <td>14.246341</td>\n",
       "    </tr>\n",
       "    <tr>\n",
       "      <th>3</th>\n",
       "      <td>220</td>\n",
       "      <td>NaN</td>\n",
       "      <td>2542.392402</td>\n",
       "      <td>2009</td>\n",
       "      <td>16.912736</td>\n",
       "    </tr>\n",
       "    <tr>\n",
       "      <th>4</th>\n",
       "      <td>210</td>\n",
       "      <td>140.0</td>\n",
       "      <td>3460.870990</td>\n",
       "      <td>2009</td>\n",
       "      <td>12.488369</td>\n",
       "    </tr>\n",
       "  </tbody>\n",
       "</table>\n",
       "</div>"
      ],
      "text/plain": [
       "   engine_displacement  horsepower  vehicle_weight  model_year  \\\n",
       "0                  170       159.0     3413.433759        2003   \n",
       "1                  130        97.0     3149.664934        2007   \n",
       "2                  170        78.0     3079.038997        2018   \n",
       "3                  220         NaN     2542.392402        2009   \n",
       "4                  210       140.0     3460.870990        2009   \n",
       "\n",
       "   fuel_efficiency_mpg  \n",
       "0            13.231729  \n",
       "1            13.688217  \n",
       "2            14.246341  \n",
       "3            16.912736  \n",
       "4            12.488369  "
      ]
     },
     "execution_count": 3,
     "metadata": {},
     "output_type": "execute_result"
    }
   ],
   "source": [
    "base = ['engine_displacement', 'horsepower', 'vehicle_weight', 'model_year', 'fuel_efficiency_mpg']\n",
    "df = pd.read_csv('car_fuel_efficiency.csv')[base]\n",
    "strings = list(df.dtypes[df.dtypes == 'object'].index)\n",
    "for col in strings:\n",
    "    df[col] = df[col].str.lower().str.replace(' ', '_')\n",
    "df.head()"
   ]
  },
  {
   "cell_type": "markdown",
   "id": "d4b6fbe7-b476-4c59-9901-d72b8bdfcf04",
   "metadata": {},
   "source": [
    "## EDA\n",
    "\n",
    "- Look at the **fuel_efficiency_mpg** variable. Does it have a long tail?"
   ]
  },
  {
   "cell_type": "code",
   "execution_count": 4,
   "id": "912d8303-39c5-448e-91b1-ff18cce3e4b4",
   "metadata": {},
   "outputs": [
    {
     "name": "stdout",
     "output_type": "stream",
     "text": [
      "engine_displacement\n",
      "First 5 unique values: [170 130 220 210 190]\n",
      "Number of unique values: 36\n",
      "Number of null values: 0\n",
      "Mean value: 199.70836768342951\n",
      "Median value: 200.0\n",
      "\n",
      "horsepower\n",
      "First 5 unique values: [159.  97.  78.  nan 140.]\n",
      "Number of unique values: 192\n",
      "Number of null values: 708\n",
      "Mean value: 149.65729212983547\n",
      "Median value: 149.0\n",
      "\n",
      "vehicle_weight\n",
      "First 5 unique values: [3413.43375861 3149.66493422 3079.03899737 2542.39240183 3460.87098999]\n",
      "Number of unique values: 9704\n",
      "Number of null values: 0\n",
      "Mean value: 3001.2809933731355\n",
      "Median value: 2993.2262961692163\n",
      "\n",
      "model_year\n",
      "First 5 unique values: [2003 2007 2018 2009 2008]\n",
      "Number of unique values: 24\n",
      "Number of null values: 0\n",
      "Mean value: 2011.484027205276\n",
      "Median value: 2012.0\n",
      "\n",
      "fuel_efficiency_mpg\n",
      "First 5 unique values: [13.23172891 13.68821744 14.246341   16.9127356  12.48836912]\n",
      "Number of unique values: 9704\n",
      "Number of null values: 0\n",
      "Mean value: 14.985243228208573\n",
      "Median value: 15.006036963481211\n",
      "\n"
     ]
    }
   ],
   "source": [
    "for col in df.columns:\n",
    "    print(col)\n",
    "    print('First 5 unique values: %s' % df[col].unique()[:5])\n",
    "    print('Number of unique values: %s' % df[col].nunique())\n",
    "    print('Number of null values: %s' % df[col].isnull().sum())\n",
    "    print('Mean value: %s' % df[col].mean())\n",
    "    print('Median value: %s' % df[col].median())\n",
    "    \n",
    "    print()"
   ]
  },
  {
   "cell_type": "markdown",
   "id": "bc896900-a999-45e1-9b90-32897136976e",
   "metadata": {},
   "source": [
    "Distribution of fuel efficiency (miles per gallon)"
   ]
  },
  {
   "cell_type": "code",
   "execution_count": 5,
   "id": "9ede138d-91a1-4e4b-9edc-271937fe55b0",
   "metadata": {},
   "outputs": [
    {
     "data": {
      "text/plain": [
       "<Axes: xlabel='fuel_efficiency_mpg', ylabel='Count'>"
      ]
     },
     "execution_count": 5,
     "metadata": {},
     "output_type": "execute_result"
    },
    {
     "data": {
      "image/png": "[encoded data removed]",
      "text/plain": [
       "<Figure size 640x480 with 1 Axes>"
      ]
     },
     "metadata": {},
     "output_type": "display_data"
    }
   ],
   "source": [
    "import matplotlib.pyplot as plt\n",
    "import seaborn as sns\n",
    "\n",
    "%matplotlib inline\n",
    "sns.histplot(df.fuel_efficiency_mpg)"
   ]
  },
  {
   "cell_type": "markdown",
   "id": "c4c7636d-c3ca-4b37-9a49-66779800684b",
   "metadata": {},
   "source": [
    "The **fuel_efficiency_mpg** variable **does not** have a long tail"
   ]
  },
  {
   "cell_type": "markdown",
   "id": "32fd23b2-5371-4b40-8b60-1c952c9dd752",
   "metadata": {},
   "source": [
    "## Question 1\n",
    "\n",
    "There's one column with missing values. What is it?\n",
    "\n",
    "- 'engine_displacement'\n",
    "- 'horsepower'\n",
    "- 'vehicle_weight'\n",
    "- 'model_year'"
   ]
  },
  {
   "cell_type": "code",
   "execution_count": 6,
   "id": "00896921-52e3-429d-8397-268731822370",
   "metadata": {},
   "outputs": [
    {
     "name": "stdout",
     "output_type": "stream",
     "text": [
      "engine_displacement\n",
      "Number of null values: 0\n",
      "\n",
      "horsepower\n",
      "Number of null values: 708\n",
      "\n",
      "vehicle_weight\n",
      "Number of null values: 0\n",
      "\n",
      "model_year\n",
      "Number of null values: 0\n",
      "\n",
      "fuel_efficiency_mpg\n",
      "Number of null values: 0\n",
      "\n"
     ]
    }
   ],
   "source": [
    "for col in df.columns:\n",
    "    print(col)\n",
    "    print('Number of null values: %s' % df[col].isnull().sum())\n",
    "    \n",
    "    print()"
   ]
  },
  {
   "cell_type": "markdown",
   "id": "bfaae619-e82f-4dae-9c52-cff42d2cb9c2",
   "metadata": {},
   "source": [
    "The answer is the **horsepower** column"
   ]
  },
  {
   "cell_type": "markdown",
   "id": "27716454-2bfd-4e27-a446-e16947a884e1",
   "metadata": {},
   "source": [
    "## Question 2\n",
    "\n",
    "What's the median (50% percentile) for variable **horsepower**?\n",
    "\n",
    "- 49\n",
    "- 99\n",
    "- 149\n",
    "- 199"
   ]
  },
  {
   "cell_type": "code",
   "execution_count": 7,
   "id": "27f74ce6-3077-4358-a170-9637074f75a1",
   "metadata": {},
   "outputs": [
    {
     "data": {
      "text/plain": [
       "np.float64(149.0)"
      ]
     },
     "execution_count": 7,
     "metadata": {},
     "output_type": "execute_result"
    }
   ],
   "source": [
    "df['horsepower'].median()"
   ]
  },
  {
   "cell_type": "markdown",
   "id": "cf90c56c-6d4f-4644-a668-5ac32263ddff",
   "metadata": {},
   "source": [
    "## Prepare and split the dataset\n",
    "\n",
    "- Shuffle the dataset (the filtered one you created above), use seed **42**.\n",
    "- Split your data in train/val/test sets, with 60%/20%/20% distribution.\n",
    "\n",
    "Use the same code as in the lectures"
   ]
  },
  {
   "cell_type": "code",
   "execution_count": 8,
   "id": "995522fb-4740-4222-8957-a08c7402d878",
   "metadata": {},
   "outputs": [
    {
     "data": {
      "text/plain": [
       "(9704, 1940, 1940, 5824)"
      ]
     },
     "execution_count": 8,
     "metadata": {},
     "output_type": "execute_result"
    }
   ],
   "source": [
    "n = len(df)\n",
    "n_val = int(n * 0.2)\n",
    "n_test = int(n * 0.2)\n",
    "n_train = n - n_val - n_test\n",
    "\n",
    "n, n_val, n_test, n_train"
   ]
  },
  {
   "cell_type": "code",
   "execution_count": 9,
   "id": "d28b707d-12c3-4736-ab8a-a7271e5e406a",
   "metadata": {},
   "outputs": [
    {
     "data": {
      "text/plain": [
       "array([ 483, 7506, 8795, ..., 5390,  860, 7270], shape=(9704,))"
      ]
     },
     "execution_count": 9,
     "metadata": {},
     "output_type": "execute_result"
    }
   ],
   "source": [
    "seed = 42\n",
    "idx = np.arange(n)\n",
    "np.random.seed(seed)\n",
    "np.random.shuffle(idx)\n",
    "idx"
   ]
  },
  {
   "cell_type": "code",
   "execution_count": 10,
   "id": "ebbf0dcf-9071-46db-8f7f-f403104838d9",
   "metadata": {},
   "outputs": [
    {
     "data": {
      "text/html": [
       "<div>\n",
       "<style scoped>\n",
       "    .dataframe tbody tr th:only-of-type {\n",
       "        vertical-align: middle;\n",
       "    }\n",
       "\n",
       "    .dataframe tbody tr th {\n",
       "        vertical-align: top;\n",
       "    }\n",
       "\n",
       "    .dataframe thead th {\n",
       "        text-align: right;\n",
       "    }\n",
       "</style>\n",
       "<table border=\"1\" class=\"dataframe\">\n",
       "  <thead>\n",
       "    <tr style=\"text-align: right;\">\n",
       "      <th></th>\n",
       "      <th>engine_displacement</th>\n",
       "      <th>horsepower</th>\n",
       "      <th>vehicle_weight</th>\n",
       "      <th>model_year</th>\n",
       "      <th>fuel_efficiency_mpg</th>\n",
       "    </tr>\n",
       "  </thead>\n",
       "  <tbody>\n",
       "    <tr>\n",
       "      <th>483</th>\n",
       "      <td>220</td>\n",
       "      <td>144.0</td>\n",
       "      <td>2535.887591</td>\n",
       "      <td>2009</td>\n",
       "      <td>16.642943</td>\n",
       "    </tr>\n",
       "    <tr>\n",
       "      <th>7506</th>\n",
       "      <td>160</td>\n",
       "      <td>141.0</td>\n",
       "      <td>2741.170484</td>\n",
       "      <td>2019</td>\n",
       "      <td>16.298377</td>\n",
       "    </tr>\n",
       "    <tr>\n",
       "      <th>8795</th>\n",
       "      <td>230</td>\n",
       "      <td>155.0</td>\n",
       "      <td>2471.880237</td>\n",
       "      <td>2017</td>\n",
       "      <td>18.591822</td>\n",
       "    </tr>\n",
       "    <tr>\n",
       "      <th>1688</th>\n",
       "      <td>150</td>\n",
       "      <td>206.0</td>\n",
       "      <td>3748.164469</td>\n",
       "      <td>2015</td>\n",
       "      <td>11.818843</td>\n",
       "    </tr>\n",
       "    <tr>\n",
       "      <th>6217</th>\n",
       "      <td>300</td>\n",
       "      <td>111.0</td>\n",
       "      <td>2135.716359</td>\n",
       "      <td>2006</td>\n",
       "      <td>19.402209</td>\n",
       "    </tr>\n",
       "  </tbody>\n",
       "</table>\n",
       "</div>"
      ],
      "text/plain": [
       "      engine_displacement  horsepower  vehicle_weight  model_year  \\\n",
       "483                   220       144.0     2535.887591        2009   \n",
       "7506                  160       141.0     2741.170484        2019   \n",
       "8795                  230       155.0     2471.880237        2017   \n",
       "1688                  150       206.0     3748.164469        2015   \n",
       "6217                  300       111.0     2135.716359        2006   \n",
       "\n",
       "      fuel_efficiency_mpg  \n",
       "483             16.642943  \n",
       "7506            16.298377  \n",
       "8795            18.591822  \n",
       "1688            11.818843  \n",
       "6217            19.402209  "
      ]
     },
     "execution_count": 10,
     "metadata": {},
     "output_type": "execute_result"
    }
   ],
   "source": [
    "# Shuffle the dataset\n",
    "df_shuffled = df.iloc[idx]\n",
    "\n",
    "# Split the dataset in train/val/test sets, with 60%/20%/20% distribution\n",
    "df_train = df_shuffled.iloc[:n_train].copy()\n",
    "df_val = df_shuffled.iloc[n_train:n_train+n_val].copy()\n",
    "df_test = df_shuffled.iloc[n_train+n_val:].copy()\n",
    "df_train.head()"
   ]
  },
  {
   "cell_type": "code",
   "execution_count": 11,
   "id": "7d2f7775-bc33-474d-90e2-ebdebfda19ba",
   "metadata": {},
   "outputs": [
    {
     "data": {
      "text/html": [
       "<div>\n",
       "<style scoped>\n",
       "    .dataframe tbody tr th:only-of-type {\n",
       "        vertical-align: middle;\n",
       "    }\n",
       "\n",
       "    .dataframe tbody tr th {\n",
       "        vertical-align: top;\n",
       "    }\n",
       "\n",
       "    .dataframe thead th {\n",
       "        text-align: right;\n",
       "    }\n",
       "</style>\n",
       "<table border=\"1\" class=\"dataframe\">\n",
       "  <thead>\n",
       "    <tr style=\"text-align: right;\">\n",
       "      <th></th>\n",
       "      <th>engine_displacement</th>\n",
       "      <th>horsepower</th>\n",
       "      <th>vehicle_weight</th>\n",
       "      <th>model_year</th>\n",
       "      <th>fuel_efficiency_mpg</th>\n",
       "    </tr>\n",
       "  </thead>\n",
       "  <tbody>\n",
       "    <tr>\n",
       "      <th>0</th>\n",
       "      <td>220</td>\n",
       "      <td>144.0</td>\n",
       "      <td>2535.887591</td>\n",
       "      <td>2009</td>\n",
       "      <td>16.642943</td>\n",
       "    </tr>\n",
       "    <tr>\n",
       "      <th>1</th>\n",
       "      <td>160</td>\n",
       "      <td>141.0</td>\n",
       "      <td>2741.170484</td>\n",
       "      <td>2019</td>\n",
       "      <td>16.298377</td>\n",
       "    </tr>\n",
       "    <tr>\n",
       "      <th>2</th>\n",
       "      <td>230</td>\n",
       "      <td>155.0</td>\n",
       "      <td>2471.880237</td>\n",
       "      <td>2017</td>\n",
       "      <td>18.591822</td>\n",
       "    </tr>\n",
       "    <tr>\n",
       "      <th>3</th>\n",
       "      <td>150</td>\n",
       "      <td>206.0</td>\n",
       "      <td>3748.164469</td>\n",
       "      <td>2015</td>\n",
       "      <td>11.818843</td>\n",
       "    </tr>\n",
       "    <tr>\n",
       "      <th>4</th>\n",
       "      <td>300</td>\n",
       "      <td>111.0</td>\n",
       "      <td>2135.716359</td>\n",
       "      <td>2006</td>\n",
       "      <td>19.402209</td>\n",
       "    </tr>\n",
       "  </tbody>\n",
       "</table>\n",
       "</div>"
      ],
      "text/plain": [
       "   engine_displacement  horsepower  vehicle_weight  model_year  \\\n",
       "0                  220       144.0     2535.887591        2009   \n",
       "1                  160       141.0     2741.170484        2019   \n",
       "2                  230       155.0     2471.880237        2017   \n",
       "3                  150       206.0     3748.164469        2015   \n",
       "4                  300       111.0     2135.716359        2006   \n",
       "\n",
       "   fuel_efficiency_mpg  \n",
       "0            16.642943  \n",
       "1            16.298377  \n",
       "2            18.591822  \n",
       "3            11.818843  \n",
       "4            19.402209  "
      ]
     },
     "execution_count": 11,
     "metadata": {},
     "output_type": "execute_result"
    }
   ],
   "source": [
    "# Reset indexes\n",
    "df_train = df_train.reset_index(drop=True)\n",
    "df_val = df_val.reset_index(drop=True)\n",
    "df_test = df_test.reset_index(drop=True)\n",
    "\n",
    "df_train.head()"
   ]
  },
  {
   "cell_type": "code",
   "execution_count": 12,
   "id": "c6855321-f224-42e2-8699-01d0d80d6054",
   "metadata": {},
   "outputs": [],
   "source": [
    "y_train = df_train.fuel_efficiency_mpg.values\n",
    "y_val = df_val.fuel_efficiency_mpg.values\n",
    "y_test = df_test.fuel_efficiency_mpg.values"
   ]
  },
  {
   "cell_type": "code",
   "execution_count": 13,
   "id": "8fa6de04-2183-4106-8e9b-762e7d7e9ec4",
   "metadata": {},
   "outputs": [],
   "source": [
    "df_train.drop(columns=['fuel_efficiency_mpg'], errors='ignore', inplace=True)\n",
    "df_val.drop(columns=['fuel_efficiency_mpg'], errors='ignore', inplace=True)\n",
    "df_test.drop(columns=['fuel_efficiency_mpg'], errors='ignore', inplace=True)"
   ]
  },
  {
   "cell_type": "markdown",
   "id": "627ae48e-508c-482d-85f7-56e817ed5abe",
   "metadata": {},
   "source": [
    "## Question 3\n",
    "\n",
    "- We need to deal with missing values for the column from Q1.\n",
    "- We have two options: fill it with 0 or with the mean of this variable.\n",
    "- Try both options. For each, train a linear regression model without regularization using the code from the lessons.\n",
    "- For computing the mean, use the training only!\n",
    "- Use the validation dataset to evaluate the models and compare the RMSE of each option.\n",
    "- Round the RMSE scores to 2 decimal digits using round(score, 2)\n",
    "- Which option gives better RMSE?\n",
    "\n",
    "Options:\n",
    "- With 0\n",
    "- With mean\n",
    "- Both are equally good"
   ]
  },
  {
   "cell_type": "code",
   "execution_count": 23,
   "id": "521d8011-fe35-40cc-ba2e-d2f94201d2f6",
   "metadata": {},
   "outputs": [],
   "source": [
    "def prepare_X(df, fillna_value):\n",
    "    assert df.select_dtypes(include=np.number).shape[1] == df.shape[1], \\\n",
    "    \"Not all columns in the DataFrame are numeric.\"\n",
    "    return df.fillna(fillna_value).values\n",
    "\n",
    "def train_linear_regression(X, y):\n",
    "    ones = np.ones(X.shape[0])\n",
    "    X = np.column_stack([ones, X])\n",
    "     \n",
    "    XTX = X.T.dot(X)\n",
    "    XTX_inv = np.linalg.inv(XTX)\n",
    "    w_full = XTX_inv.dot(X.T).dot(y)\n",
    "     \n",
    "    return w_full[0], w_full[1:]\n",
    "\n",
    "def rmse(y, y_pred):\n",
    "    error = y_pred - y \n",
    "    se = error ** 2\n",
    "    mse = se.mean()\n",
    "    return np.sqrt(mse)"
   ]
  },
  {
   "cell_type": "markdown",
   "id": "a023ccd0-590c-4501-96e2-4bbb0171b07b",
   "metadata": {},
   "source": [
    "### Missing values replaced with 0"
   ]
  },
  {
   "cell_type": "code",
   "execution_count": 24,
   "id": "27e3ac9c-b3d5-4269-bb23-e706f1b9d45c",
   "metadata": {},
   "outputs": [
    {
     "data": {
      "text/plain": [
       "np.float64(0.52)"
      ]
     },
     "execution_count": 24,
     "metadata": {},
     "output_type": "execute_result"
    }
   ],
   "source": [
    "# Training part\n",
    "X_train = prepare_X(df_train, 0)\n",
    "w0, w = train_linear_regression(X_train, y_train)\n",
    "\n",
    "# Validation part\n",
    "X_val = prepare_X(df_val, 0)\n",
    "y_pred = w0 + X_val.dot(w)\n",
    "\n",
    "rmse_0 = rmse(y_val, y_pred)\n",
    "round(rmse_0, 2)"
   ]
  },
  {
   "cell_type": "markdown",
   "id": "a1c394f2-3c91-46fb-8268-a47068f5f7df",
   "metadata": {},
   "source": [
    "### Missing values replaced with mean value of the horsepower column"
   ]
  },
  {
   "cell_type": "code",
   "execution_count": 25,
   "id": "74979bb2-3bb1-44ad-9084-29dfd5522d96",
   "metadata": {},
   "outputs": [
    {
     "data": {
      "text/plain": [
       "np.float64(0.46360196121428665)"
      ]
     },
     "execution_count": 25,
     "metadata": {},
     "output_type": "execute_result"
    }
   ],
   "source": [
    "# Training part\n",
    "X_train = prepare_X(df_train, df['horsepower'].mean())\n",
    "w0, w = train_linear_regression(X_train, y_train)\n",
    "\n",
    "# Validation part\n",
    "X_val = prepare_X(df_val, df['horsepower'].mean())\n",
    "y_pred = w0 + X_val.dot(w)\n",
    "\n",
    "rmse_mean = rmse(y_val, y_pred)\n",
    "rmse_mean"
   ]
  },
  {
   "cell_type": "markdown",
   "id": "826a6375-e1b5-4257-89ed-a3ed9cd9efb0",
   "metadata": {},
   "source": [
    "Question: Which option gives better RMSE? \n",
    "\n",
    "Answer: **With mean**"
   ]
  },
  {
   "cell_type": "markdown",
   "id": "d6d5fc65-9fcd-4bb3-bbab-5667ae655649",
   "metadata": {},
   "source": [
    "# Question 4\n",
    "\n",
    "- Now let's train a regularized linear regression.\n",
    "- For this question, fill the NAs with 0.\n",
    "- Try different values of r from this list: [0, 0.01, 0.1, 1, 5, 10, 100].\n",
    "- Use RMSE to evaluate the model on the validation dataset.\n",
    "- Round the RMSE scores to 2 decimal digits.\n",
    "- Which r gives the best RMSE?\n",
    "If there are multiple options, select the smallest r.\n",
    "\n",
    "Options:\n",
    "- 0\n",
    "- 0.01\n",
    "- 1\n",
    "- 10\n",
    "- 100"
   ]
  },
  {
   "cell_type": "code",
   "execution_count": 17,
   "id": "6890da06-09ca-4238-b220-424b4ec33746",
   "metadata": {},
   "outputs": [],
   "source": [
    "def train_linear_regression_reg(X, y, r=0.001):\n",
    "    ones = np.ones(X.shape[0])\n",
    "    X = np.column_stack([ones, X])\n",
    "     \n",
    "    XTX = X.T.dot(X)\n",
    "    XTX = XTX + r * np.eye(XTX.shape[0])\n",
    "     \n",
    "    XTX_inv = np.linalg.inv(XTX)\n",
    "    w_full = XTX_inv.dot(X.T).dot(y)\n",
    "     \n",
    "    return w_full[0], w_full[1:]"
   ]
  },
  {
   "cell_type": "code",
   "execution_count": 30,
   "id": "e5fbad8f-2716-440f-989a-145bbc5a51a1",
   "metadata": {},
   "outputs": [
    {
     "name": "stdout",
     "output_type": "stream",
     "text": [
      "reg parameter:  0 bias term:  28.82736547365895 rmse:  0.52\n",
      "reg parameter:  0.01 bias term:  24.92683841981215 rmse:  0.52\n",
      "reg parameter:  0.1 bias term:  11.239661084581073 rmse:  0.52\n",
      "reg parameter:  1 bias term:  1.7315979411219746 rmse:  0.52\n",
      "reg parameter:  5 bias term:  0.3638075020482907 rmse:  0.52\n",
      "reg parameter:  10 bias term:  0.18306246621686947 rmse:  0.52\n",
      "reg parameter:  100 bias term:  0.01841801730688404 rmse:  0.52\n"
     ]
    }
   ],
   "source": [
    "for r in [0, 0.01, 0.1, 1, 5, 10, 100]:\n",
    "    X_train = prepare_X(df_train, 0)\n",
    "    w0, w = train_linear_regression_reg(X_train, y_train, r)\n",
    " \n",
    "    X_val = prepare_X(df_val, 0)\n",
    "    y_pred = w0 + X_val.dot(w)\n",
    " \n",
    "    score = rmse(y_val, y_pred)\n",
    "    score = round(score, 2)\n",
    "     \n",
    "    print(\"reg parameter: \",r, \"bias term: \",w0, \"rmse: \",score)"
   ]
  },
  {
   "cell_type": "markdown",
   "id": "03990f1c-d9d9-4fd3-931a-5e6e428d06e8",
   "metadata": {},
   "source": [
    "After rounding the RMSE scores, they all look the same. Let us check the original values to determine the smallest one"
   ]
  },
  {
   "cell_type": "code",
   "execution_count": 31,
   "id": "0b53adef-2f0a-4058-a7ba-b44f13c76aaa",
   "metadata": {},
   "outputs": [
    {
     "name": "stdout",
     "output_type": "stream",
     "text": [
      "reg parameter:  0 bias term:  28.82736547365895 rmse:  0.5173782638844466\n",
      "reg parameter:  0.01 bias term:  24.92683841981215 rmse:  0.5171115525769823\n",
      "reg parameter:  0.1 bias term:  11.239661084581073 rmse:  0.5187525130702517\n",
      "reg parameter:  1 bias term:  1.7315979411219746 rmse:  0.5222348802093141\n",
      "reg parameter:  5 bias term:  0.3638075020482907 rmse:  0.522891609282361\n",
      "reg parameter:  10 bias term:  0.18306246621686947 rmse:  0.5229812979636599\n",
      "reg parameter:  100 bias term:  0.01841801730688404 rmse:  0.5230636233819933\n"
     ]
    }
   ],
   "source": [
    "for r in [0, 0.01, 0.1, 1, 5, 10, 100]:\n",
    "    X_train = prepare_X(df_train, 0)\n",
    "    w0, w = train_linear_regression_reg(X_train, y_train, r)\n",
    " \n",
    "    X_val = prepare_X(df_val, 0)\n",
    "    y_pred = w0 + X_val.dot(w)\n",
    " \n",
    "    score = rmse(y_val, y_pred)\n",
    "     \n",
    "    print(\"reg parameter: \",r, \"bias term: \",w0, \"rmse: \",score)"
   ]
  },
  {
   "cell_type": "markdown",
   "id": "25156015-bbbc-43d8-b753-43c78950d9d6",
   "metadata": {},
   "source": [
    "The smalest **r** value is **0.01**"
   ]
  },
  {
   "cell_type": "markdown",
   "id": "36325980-1ca3-4383-9ade-319836eb6e9c",
   "metadata": {},
   "source": [
    "## Question 5\n",
    "\n",
    "- We used seed 42 for splitting the data. Let's find out how selecting the seed influences our score.\n",
    "- Try different seed values: [0, 1, 2, 3, 4, 5, 6, 7, 8, 9].\n",
    "- For each seed, do the train/validation/test split with 60%/20%/20% distribution.\n",
    "- Fill the missing values with 0 and train a model without regularization.\n",
    "- For each seed, evaluate the model on the validation dataset and collect the RMSE scores.\n",
    "- What's the standard deviation of all the scores? To compute the standard deviation, use np.std.\n",
    "- Round the result to 3 decimal digits (round(std, 3))\n",
    "\n",
    "What's the value of std?\n",
    "\n",
    "- 0.001\n",
    "- 0.006\n",
    "- 0.060\n",
    "- 0.600\n",
    "\n",
    "Note: Standard deviation shows how different the values are. If it's low, then all values are approximately the same. If it's high, the values are different. If standard deviation of scores is low, then our model is stable."
   ]
  },
  {
   "cell_type": "code",
   "execution_count": 32,
   "id": "fb186543-47ee-4c61-8bff-a92750720fcd",
   "metadata": {},
   "outputs": [],
   "source": [
    "def prepare_X(df):\n",
    "    return df.fillna(0).values\n",
    "\n",
    "def train_linear_regression(X, y):\n",
    "    ones = np.ones(X.shape[0])\n",
    "    X = np.column_stack([ones, X])\n",
    "     \n",
    "    XTX = X.T.dot(X)\n",
    "    XTX_inv = np.linalg.inv(XTX)\n",
    "    w_full = XTX_inv.dot(X.T).dot(y)"
   ]
  },
  {
   "cell_type": "code",
   "execution_count": 47,
   "id": "a9be2c6b-adc9-4f3a-b33c-7e7aa7f8a48b",
   "metadata": {},
   "outputs": [
    {
     "data": {
      "text/plain": [
       "np.float64(0.006991133429659069)"
      ]
     },
     "execution_count": 47,
     "metadata": {},
     "output_type": "execute_result"
    }
   ],
   "source": [
    "seeds = [0, 1, 2, 3, 4, 5, 6, 7, 8, 9]\n",
    "rmse_values = []\n",
    "for seed in seeds:\n",
    "    # Set seed value and shuffle the indexes\n",
    "    idx = np.arange(n)\n",
    "    np.random.seed(seed)\n",
    "    np.random.shuffle(idx)\n",
    "\n",
    "    # Get shuffled dataset\n",
    "    df_shuffled = df.iloc[idx]\n",
    "    \n",
    "    # Split the dataset in train/val/test sets, with 60%/20%/20% distribution\n",
    "    df_train = df_shuffled.iloc[:n_train].copy()\n",
    "    df_val = df_shuffled.iloc[n_train:n_train+n_val].copy()\n",
    "    df_test = df_shuffled.iloc[n_train+n_val:].copy()\n",
    "\n",
    "    # Reset indexes\n",
    "    df_train = df_train.reset_index(drop=True)\n",
    "    df_val = df_val.reset_index(drop=True)\n",
    "    df_test = df_test.reset_index(drop=True)\n",
    "\n",
    "    # Extract 'y'\n",
    "    y_train = df_train.fuel_efficiency_mpg.values\n",
    "    y_val = df_val.fuel_efficiency_mpg.values\n",
    "    y_test = df_test.fuel_efficiency_mpg.values\n",
    "\n",
    "    # Remove the fuel_efficiency_mpg column from the datasets\n",
    "    df_train.drop(columns=['fuel_efficiency_mpg'], errors='ignore', inplace=True)\n",
    "    df_val.drop(columns=['fuel_efficiency_mpg'], errors='ignore', inplace=True)\n",
    "    df_test.drop(columns=['fuel_efficiency_mpg'], errors='ignore', inplace=True)\n",
    "\n",
    "    # Train the model without regularization\n",
    "    X_train = prepare_X(df_train)\n",
    "    w0, w = train_linear_regression_reg(X_train, y_train)\n",
    "\n",
    "    # Evaluate the model on the validation dataset\n",
    "    X_val = prepare_X(df_val)\n",
    "    y_pred = w0 + X_val.dot(w)\n",
    "\n",
    "    # Collect RMSE scores\n",
    "    score = rmse(y_val, y_pred)\n",
    "    rmse_values.append(score)\n",
    "\n",
    "# Compute the standard deviation\n",
    "std_deviation = np.std(rmse_values)\n",
    "std_deviation"
   ]
  },
  {
   "cell_type": "markdown",
   "id": "8a43ca56-8fba-461b-819c-db0ecd83e7ff",
   "metadata": {},
   "source": [
    "The standard deviation of all the scores is **0.006**"
   ]
  },
  {
   "cell_type": "markdown",
   "id": "3356b41f-1a0c-4357-9aa1-b85529ac3e53",
   "metadata": {},
   "source": [
    "## Question 6\n",
    "\n",
    "- Split the dataset like previously, use seed 9.\n",
    "- Combine train and validation datasets.\n",
    "- Fill the missing values with 0 and train a model with r=0.001.\n",
    "\n",
    "What's the RMSE on the test dataset?\n",
    "\n",
    "Options:\n",
    "\n",
    "- 0.15\n",
    "- 0.515\n",
    "- 5.15\n",
    "- 51.5"
   ]
  },
  {
   "cell_type": "code",
   "execution_count": 39,
   "id": "95d9c636-063d-405b-b7eb-1a2491338b58",
   "metadata": {},
   "outputs": [],
   "source": [
    "def prepare_X(df):\n",
    "    return df.fillna(0).values\n",
    "\n",
    "def train_linear_regression_reg(X, y, r=0.001):\n",
    "    ones = np.ones(X.shape[0])\n",
    "    X = np.column_stack([ones, X])\n",
    "     \n",
    "    XTX = X.T.dot(X)\n",
    "    XTX = XTX + r * np.eye(XTX.shape[0])\n",
    "     \n",
    "    XTX_inv = np.linalg.inv(XTX)\n",
    "    w_full = XTX_inv.dot(X.T).dot(y)\n",
    "     \n",
    "    return w_full[0], w_full[1:]"
   ]
  },
  {
   "cell_type": "code",
   "execution_count": 48,
   "id": "bfced3e8-30cf-4cf5-9b8c-26d4ae51f60b",
   "metadata": {},
   "outputs": [
    {
     "data": {
      "text/plain": [
       "np.float64(0.5156261299169602)"
      ]
     },
     "execution_count": 48,
     "metadata": {},
     "output_type": "execute_result"
    }
   ],
   "source": [
    "# Set seed value to 9 and shuffle the indexes\n",
    "seed = 9\n",
    "# Set r to 0.001\n",
    "r = 0.001\n",
    "idx = np.arange(n)\n",
    "np.random.seed(seed)\n",
    "np.random.shuffle(idx)\n",
    "\n",
    "# Get shuffled dataset\n",
    "df_shuffled = df.iloc[idx]\n",
    "\n",
    "# Split the dataset in train/val/test sets, with 60%/20%/20% distribution\n",
    "df_train = df_shuffled.iloc[:n_train].copy()\n",
    "df_val = df_shuffled.iloc[n_train:n_train+n_val].copy()\n",
    "df_test = df_shuffled.iloc[n_train+n_val:].copy()\n",
    "\n",
    "# Reset indexes\n",
    "df_train = df_train.reset_index(drop=True)\n",
    "df_val = df_val.reset_index(drop=True)\n",
    "df_test = df_test.reset_index(drop=True)\n",
    "\n",
    "# Extract 'y'\n",
    "y_train = df_train.fuel_efficiency_mpg.values\n",
    "y_val = df_val.fuel_efficiency_mpg.values\n",
    "y_test = df_test.fuel_efficiency_mpg.values\n",
    "\n",
    "# Remove the fuel_efficiency_mpg column from the datasets\n",
    "df_train.drop(columns=['fuel_efficiency_mpg'], errors='ignore', inplace=True)\n",
    "df_val.drop(columns=['fuel_efficiency_mpg'], errors='ignore', inplace=True)\n",
    "df_test.drop(columns=['fuel_efficiency_mpg'], errors='ignore', inplace=True)\n",
    "\n",
    "# Combine train and validation datasets \n",
    "df_full_train = pd.concat([df_train, df_val])\n",
    "df_full_train = df_full_train.reset_index(drop=True)\n",
    "\n",
    "# Combine 'y' for train and validation datasets\n",
    "y_full_train = np.concatenate([y_train, y_val])\n",
    "\n",
    "# Train the model on the combined dataset\n",
    "X_full_train = prepare_X(df_full_train) \n",
    "w0, w = train_linear_regression_reg(X_full_train, y_full_train, r)\n",
    "\n",
    "# Evaluate the model on the test dataset\n",
    "X_test = prepare_X(df_test)\n",
    "y_pred = w0 + X_test.dot(w)\n",
    " \n",
    "score = rmse(y_test, y_pred)\n",
    "score"
   ]
  },
  {
   "cell_type": "markdown",
   "id": "e856d860-3244-4f18-ae61-15b57ac2e937",
   "metadata": {},
   "source": [
    "The RMSE on the test dataset is **0.515**"
   ]
  },
  {
   "cell_type": "code",
   "execution_count": null,
   "id": "c4c24b19-85c0-4eb2-a6f6-805b8fcf2b28",
   "metadata": {},
   "outputs": [],
   "source": []
  }
 ],
 "metadata": {
  "kernelspec": {
   "display_name": "Python 3 (ipykernel)",
   "language": "python",
   "name": "python3"
  },
  "language_info": {
   "codemirror_mode": {
    "name": "ipython",
    "version": 3
   },
   "file_extension": ".py",
   "mimetype": "text/x-python",
   "name": "python",
   "nbconvert_exporter": "python",
   "pygments_lexer": "ipython3",
   "version": "3.11.9"
  }
 },
 "nbformat": 4,
 "nbformat_minor": 5
}
